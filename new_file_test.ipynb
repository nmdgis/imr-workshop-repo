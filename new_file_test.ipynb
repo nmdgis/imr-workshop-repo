{
 "metadata": {
  "name": "",
  "signature": "sha256:74b2a340f1caad125996fbb8d8e0573e8eaf9e13f4378e755138e29baf72ee7c"
 },
 "nbformat": 3,
 "nbformat_minor": 0,
 "worksheets": [
  {
   "cells": [
    {
     "cell_type": "code",
     "collapsed": false,
     "input": [
      "import urllib\n",
      "import xlrd\n",
      "import csv\n",
      "import xml.etree.ElementTree as ET\n",
      "from   unidecode import *\n",
      "import xlwt\n",
      "import sys\n",
      "import re\n",
      "import random"
     ],
     "language": "python",
     "metadata": {},
     "outputs": [],
     "prompt_number": 1
    },
    {
     "cell_type": "code",
     "collapsed": false,
     "input": [
      "def load_csv(filename):\n",
      "    soups = {}\n",
      "    fil = open(filename, 'rb')\n",
      "    reader = csv.reader(fil, delimiter=',')\n",
      "    for row in reader:\n",
      "        soups[row[0]] = row[1:]\n",
      "    return soups\n",
      "\n",
      "def load_bots(filename):\n",
      "    ret = []\n",
      "    fil = open(filename,'rb')\n",
      "    for line in fil.readlines():\n",
      "        ret.append(line[5:].strip())\n",
      "    return ret\n",
      "\n",
      "def load_active(filename):\n",
      "    fil = open(filename, 'rb')\n",
      "    reader = csv.reader(fil, delimiter=',')\n",
      "    for row in reader:\n",
      "        return row"
     ],
     "language": "python",
     "metadata": {},
     "outputs": [],
     "prompt_number": 45
    },
    {
     "cell_type": "code",
     "collapsed": false,
     "input": [
      "lib = load_csv(\"../processed_data/science_editors.txt\")\n",
      "lib_small = load_csv(\"../processed_data/science_editors_wo_m.txt\")"
     ],
     "language": "python",
     "metadata": {},
     "outputs": [],
     "prompt_number": 3
    },
    {
     "cell_type": "code",
     "collapsed": false,
     "input": [
      "active = load_active('../active_users.txt')"
     ],
     "language": "python",
     "metadata": {},
     "outputs": [],
     "prompt_number": 46
    },
    {
     "cell_type": "code",
     "collapsed": false,
     "input": [
      "active[3]"
     ],
     "language": "python",
     "metadata": {},
     "outputs": [
      {
       "metadata": {},
       "output_type": "pyout",
       "prompt_number": 51,
       "text": [
        "'Waacstats'"
       ]
      }
     ],
     "prompt_number": 51
    },
    {
     "cell_type": "code",
     "collapsed": false,
     "input": [
      "len(lib['nbarnes/knowlab_real/wikipedia_projects/science_articles/Proton_history'])"
     ],
     "language": "python",
     "metadata": {},
     "outputs": [
      {
       "metadata": {},
       "output_type": "pyout",
       "prompt_number": 8,
       "text": [
        "1197"
       ]
      }
     ],
     "prompt_number": 8
    },
    {
     "cell_type": "code",
     "collapsed": false,
     "input": [
      "len(lib_small['nbarnes/knowlab_real/wikipedia_projects/science_articles/Proton_history'])"
     ],
     "language": "python",
     "metadata": {},
     "outputs": [
      {
       "metadata": {},
       "output_type": "pyout",
       "prompt_number": 9,
       "text": [
        "449"
       ]
      }
     ],
     "prompt_number": 9
    },
    {
     "cell_type": "code",
     "collapsed": false,
     "input": [
      "lib.keys()"
     ],
     "language": "python",
     "metadata": {},
     "outputs": [
      {
       "metadata": {},
       "output_type": "pyout",
       "prompt_number": 7,
       "text": [
        "['nbarnes/knowlab_real/wikipedia_projects/science_articles/Ectopic_expression_history',\n",
        " 'nbarnes/knowlab_real/wikipedia_projects/science_articles/National_Bureau_of_Standards_history',\n",
        " 'nbarnes/knowlab_real/wikipedia_projects/science_articles/Olfactory_striae_history',\n",
        " 'nbarnes/knowlab_real/wikipedia_projects/science_articles/Joe_Felsenstein_history',\n",
        " 'nbarnes/knowlab_real/wikipedia_projects/science_articles/Solar_pond_history',\n",
        " 'nbarnes/knowlab_real/wikipedia_projects/science_articles/Prometon_history',\n",
        " 'nbarnes/knowlab_real/wikipedia_projects/science_articles/Inositol_hexaphosphate_history',\n",
        " 'nbarnes/knowlab_real/wikipedia_projects/science_articles/Embolization_history',\n",
        " 'nbarnes/knowlab_real/wikipedia_projects/science_articles/Cobb_angle_history',\n",
        " 'nbarnes/knowlab_real/wikipedia_projects/science_articles/Intraepithelial__page_does_not_exist__history',\n",
        " 'nbarnes/knowlab_real/wikipedia_projects/science_articles/Wahlund_effect_history',\n",
        " 'nbarnes/knowlab_real/wikipedia_projects/science_articles/Knowledge_management_history',\n",
        " 'nbarnes/knowlab_real/wikipedia_projects/science_articles/National_Prevention_Information_Network_history',\n",
        " 'nbarnes/knowlab_real/wikipedia_projects/science_articles/Apatite_history',\n",
        " 'nbarnes/knowlab_real/wikipedia_projects/science_articles/Poisson_distribution_history',\n",
        " 'nbarnes/knowlab_real/wikipedia_projects/science_articles/SSIES_history',\n",
        " 'nbarnes/knowlab_real/wikipedia_projects/science_articles/Teratogen_history',\n",
        " 'nbarnes/knowlab_real/wikipedia_projects/science_articles/Crocidolite_history',\n",
        " 'nbarnes/knowlab_real/wikipedia_projects/science_articles/Titermax_history',\n",
        " 'nbarnes/knowlab_real/wikipedia_projects/science_articles/Rho_factor_history',\n",
        " 'nbarnes/knowlab_real/wikipedia_projects/science_articles/Heating_degree_day_history',\n",
        " 'nbarnes/knowlab_real/wikipedia_projects/science_articles/Girdlestones_Procedure_history',\n",
        " 'nbarnes/knowlab_real/wikipedia_projects/science_articles/Physical_chemistry_history',\n",
        " 'nbarnes/knowlab_real/wikipedia_projects/science_articles/Integrative_complexity_history',\n",
        " 'nbarnes/knowlab_real/wikipedia_projects/science_articles/Osteitis_history',\n",
        " 'nbarnes/knowlab_real/wikipedia_projects/science_articles/Wind_gradient_history',\n",
        " 'nbarnes/knowlab_real/wikipedia_projects/science_articles/Zone_melting_history',\n",
        " 'nbarnes/knowlab_real/wikipedia_projects/science_articles/Vesicle__biology__history',\n",
        " 'nbarnes/knowlab_real/wikipedia_projects/science_articles/Ecopsychology_history',\n",
        " 'nbarnes/knowlab_real/wikipedia_projects/science_articles/Subfields_of_psychology_history',\n",
        " 'nbarnes/knowlab_real/wikipedia_projects/science_articles/Hydroxychloroquine_history',\n",
        " 'nbarnes/knowlab_real/wikipedia_projects/science_articles/Charlotte_Scott_history',\n",
        " 'nbarnes/knowlab_real/wikipedia_projects/science_articles/Civil_religion_history',\n",
        " 'nbarnes/knowlab_real/wikipedia_projects/science_articles/Toddlers_fracture_history',\n",
        " 'nbarnes/knowlab_real/wikipedia_projects/science_articles/Cheek_history',\n",
        " 'nbarnes/knowlab_real/wikipedia_projects/science_articles/Alliance_for_Aging_Research_history',\n",
        " 'nbarnes/knowlab_real/wikipedia_projects/science_articles/List_of_credentials_in_psychology_history',\n",
        " 'nbarnes/knowlab_real/wikipedia_projects/science_articles/Alan_G_MacDiarmid_history',\n",
        " 'nbarnes/knowlab_real/wikipedia_projects/science_articles/Exogenote_history',\n",
        " 'nbarnes/knowlab_real/wikipedia_projects/science_articles/Fourier_optics_history',\n",
        " 'nbarnes/knowlab_real/wikipedia_projects/science_articles/Cutoff_wavelength_history',\n",
        " 'nbarnes/knowlab_real/wikipedia_projects/science_articles/Comparative_foot_morphology_history',\n",
        " 'nbarnes/knowlab_real/wikipedia_projects/science_articles/Galactic_cosmic_ray_history',\n",
        " 'nbarnes/knowlab_real/wikipedia_projects/science_articles/Schumann_resonance_history',\n",
        " 'nbarnes/knowlab_real/wikipedia_projects/science_articles/Illnesses_related_to_poor_nutrition_history',\n",
        " 'nbarnes/knowlab_real/wikipedia_projects/science_articles/Proton_history',\n",
        " 'nbarnes/knowlab_real/wikipedia_projects/science_articles/Chrominance_history',\n",
        " 'nbarnes/knowlab_real/wikipedia_projects/science_articles/Neurotrophic_factor_history',\n",
        " 'nbarnes/knowlab_real/wikipedia_projects/science_articles/Arne_Wilhelm_Kaurin_Tiselius_history',\n",
        " 'nbarnes/knowlab_real/wikipedia_projects/science_articles/Ernst_Mayr_history',\n",
        " 'nbarnes/knowlab_real/wikipedia_projects/science_articles/Giant-cell_tumor_of_bone_history',\n",
        " 'nbarnes/knowlab_real/wikipedia_projects/science_articles/Secularization_history',\n",
        " 'nbarnes/knowlab_real/wikipedia_projects/science_articles/Sphingomyelin_history',\n",
        " 'nbarnes/knowlab_real/wikipedia_projects/science_articles/Tn_antigen_history',\n",
        " 'nbarnes/knowlab_real/wikipedia_projects/science_articles/Yttrium_history',\n",
        " 'nbarnes/knowlab_real/wikipedia_projects/science_articles/ISFP_history',\n",
        " 'nbarnes/knowlab_real/wikipedia_projects/science_articles/Ekman_layer_history',\n",
        " 'nbarnes/knowlab_real/wikipedia_projects/science_articles/Radio_source_SHGb02_plus_14a_history',\n",
        " 'nbarnes/knowlab_real/wikipedia_projects/science_articles/Borderline_intellectual_functioning_history',\n",
        " 'nbarnes/knowlab_real/wikipedia_projects/science_articles/Heart_history',\n",
        " 'nbarnes/knowlab_real/wikipedia_projects/science_articles/Overhead_throwing_motion_history',\n",
        " 'nbarnes/knowlab_real/wikipedia_projects/science_articles/Lufenuron_history',\n",
        " 'nbarnes/knowlab_real/wikipedia_projects/science_articles/Conjugate_eye_movement_history',\n",
        " 'nbarnes/knowlab_real/wikipedia_projects/science_articles/Flare_spray_history',\n",
        " 'nbarnes/knowlab_real/wikipedia_projects/science_articles/Lustre__mineralogy__history',\n",
        " 'nbarnes/knowlab_real/wikipedia_projects/science_articles/Cancellous_bone_history',\n",
        " 'nbarnes/knowlab_real/wikipedia_projects/science_articles/Hopanoids_history',\n",
        " 'nbarnes/knowlab_real/wikipedia_projects/science_articles/Ultrapure_water_history',\n",
        " 'nbarnes/knowlab_real/wikipedia_projects/science_articles/Islet_cell_history',\n",
        " 'nbarnes/knowlab_real/wikipedia_projects/science_articles/Tonsil_of_cerebellum_history',\n",
        " 'nbarnes/knowlab_real/wikipedia_projects/science_articles/Triarchic_theory_of_intelligence_history',\n",
        " 'nbarnes/knowlab_real/wikipedia_projects/science_articles/Neurobiology_history',\n",
        " 'nbarnes/knowlab_real/wikipedia_projects/science_articles/Jeanne_Ferrante_history',\n",
        " 'nbarnes/knowlab_real/wikipedia_projects/science_articles/Blood_thinner_history',\n",
        " 'nbarnes/knowlab_real/wikipedia_projects/science_articles/Angiotensin_receptor_history',\n",
        " 'nbarnes/knowlab_real/wikipedia_projects/science_articles/Suboccipital_triangle_history',\n",
        " 'nbarnes/knowlab_real/wikipedia_projects/science_articles/Consanguinity_history',\n",
        " 'nbarnes/knowlab_real/wikipedia_projects/science_articles/Third_World_history',\n",
        " 'nbarnes/knowlab_real/wikipedia_projects/science_articles/Weissbergers_model_history',\n",
        " 'nbarnes/knowlab_real/wikipedia_projects/science_articles/Communism_history',\n",
        " 'nbarnes/knowlab_real/wikipedia_projects/science_articles/Precancerous_dermatosis_history',\n",
        " 'nbarnes/knowlab_real/wikipedia_projects/science_articles/Facial_vein_history',\n",
        " 'nbarnes/knowlab_real/wikipedia_projects/science_articles/Neoplasia_history',\n",
        " 'nbarnes/knowlab_real/wikipedia_projects/science_articles/Mesosome_history',\n",
        " 'nbarnes/knowlab_real/wikipedia_projects/science_articles/Tioguanine_history',\n",
        " 'nbarnes/knowlab_real/wikipedia_projects/science_articles/Geology_history',\n",
        " 'nbarnes/knowlab_real/wikipedia_projects/science_articles/Sky_history',\n",
        " 'nbarnes/knowlab_real/wikipedia_projects/science_articles/Urea_history',\n",
        " 'nbarnes/knowlab_real/wikipedia_projects/science_articles/Glufosinate_history',\n",
        " 'nbarnes/knowlab_real/wikipedia_projects/science_articles/Sclera_history',\n",
        " 'nbarnes/knowlab_real/wikipedia_projects/science_articles/Metal_history',\n",
        " 'nbarnes/knowlab_real/wikipedia_projects/science_articles/Tamoxifen_history',\n",
        " 'nbarnes/knowlab_real/wikipedia_projects/science_articles/New_Horizons_history',\n",
        " 'nbarnes/knowlab_real/wikipedia_projects/science_articles/Cloud_suck_history',\n",
        " 'nbarnes/knowlab_real/wikipedia_projects/science_articles/Sally_Floyd_history',\n",
        " 'nbarnes/knowlab_real/wikipedia_projects/science_articles/Plasma_jet__page_does_not_exist__history',\n",
        " 'nbarnes/knowlab_real/wikipedia_projects/science_articles/Plasma__physics__history',\n",
        " 'nbarnes/knowlab_real/wikipedia_projects/science_articles/Primaquine_history',\n",
        " 'nbarnes/knowlab_real/wikipedia_projects/science_articles/Harriet_Brooks_history',\n",
        " 'nbarnes/knowlab_real/wikipedia_projects/science_articles/Nodose_ganglion_history',\n",
        " 'nbarnes/knowlab_real/wikipedia_projects/science_articles/HGH_history',\n",
        " 'nbarnes/knowlab_real/wikipedia_projects/science_articles/Space_Science_and_Engineering_Center_history',\n",
        " 'nbarnes/knowlab_real/wikipedia_projects/science_articles/Lymphedema_history',\n",
        " 'nbarnes/knowlab_real/wikipedia_projects/science_articles/Overjustification_effect_history',\n",
        " 'nbarnes/knowlab_real/wikipedia_projects/science_articles/Sandstone_history',\n",
        " 'nbarnes/knowlab_real/wikipedia_projects/science_articles/Explicit_memory_history',\n",
        " 'nbarnes/knowlab_real/wikipedia_projects/science_articles/Egodystonic_history',\n",
        " 'nbarnes/knowlab_real/wikipedia_projects/science_articles/List_of_biochemistry_topics_history',\n",
        " 'nbarnes/knowlab_real/wikipedia_projects/science_articles/Person_with_AIDS__page_does_not_exist__history',\n",
        " 'nbarnes/knowlab_real/wikipedia_projects/science_articles/Speaker_recognition_history',\n",
        " 'nbarnes/knowlab_real/wikipedia_projects/science_articles/Microwaving_history',\n",
        " 'nbarnes/knowlab_real/wikipedia_projects/science_articles/Internalized_oppression_history',\n",
        " 'nbarnes/knowlab_real/wikipedia_projects/science_articles/Syncytium_history',\n",
        " 'nbarnes/knowlab_real/wikipedia_projects/science_articles/Blast_phase__page_does_not_exist__history',\n",
        " 'nbarnes/knowlab_real/wikipedia_projects/science_articles/Polyphenol_antioxidant_history',\n",
        " 'nbarnes/knowlab_real/wikipedia_projects/science_articles/Cardiophysics_history',\n",
        " 'nbarnes/knowlab_real/wikipedia_projects/science_articles/Olfactory_tract_history',\n",
        " 'nbarnes/knowlab_real/wikipedia_projects/science_articles/TRPM6_history',\n",
        " 'nbarnes/knowlab_real/wikipedia_projects/science_articles/Nucleolus_history',\n",
        " 'nbarnes/knowlab_real/wikipedia_projects/science_articles/Superior_pharyngeal_constrictor_muscle_history',\n",
        " 'nbarnes/knowlab_real/wikipedia_projects/science_articles/Lobule_history',\n",
        " 'nbarnes/knowlab_real/wikipedia_projects/science_articles/Brain_stem_tumor_history',\n",
        " 'nbarnes/knowlab_real/wikipedia_projects/science_articles/Submandibular_ganglion_history',\n",
        " 'nbarnes/knowlab_real/wikipedia_projects/science_articles/Dimethyl_sulfoxide_history',\n",
        " 'nbarnes/knowlab_real/wikipedia_projects/science_articles/Extratropical_cyclone_history',\n",
        " 'nbarnes/knowlab_real/wikipedia_projects/science_articles/Abortion_history',\n",
        " 'nbarnes/knowlab_real/wikipedia_projects/science_articles/Tetryl_history',\n",
        " 'nbarnes/knowlab_real/wikipedia_projects/science_articles/Amblygonite_history',\n",
        " 'nbarnes/knowlab_real/wikipedia_projects/science_articles/Multifactorial_inheritance_history',\n",
        " 'nbarnes/knowlab_real/wikipedia_projects/science_articles/Cevimeline_history',\n",
        " 'nbarnes/knowlab_real/wikipedia_projects/science_articles/Posterior_communicating_artery_history',\n",
        " 'nbarnes/knowlab_real/wikipedia_projects/science_articles/AMPA_receptor_history',\n",
        " 'nbarnes/knowlab_real/wikipedia_projects/science_articles/Eddington_luminosity_history',\n",
        " 'nbarnes/knowlab_real/wikipedia_projects/science_articles/Laryngopharynx_history',\n",
        " 'nbarnes/knowlab_real/wikipedia_projects/science_articles/Theory_of_multiple_intelligences_history',\n",
        " 'nbarnes/knowlab_real/wikipedia_projects/science_articles/Coronal_loop_history',\n",
        " 'nbarnes/knowlab_real/wikipedia_projects/science_articles/Nonsense_codon_history',\n",
        " 'nbarnes/knowlab_real/wikipedia_projects/science_articles/Civil_rights_history',\n",
        " 'nbarnes/knowlab_real/wikipedia_projects/science_articles/Pterygopalatine_fossa_history',\n",
        " 'nbarnes/knowlab_real/wikipedia_projects/science_articles/Behavioral_theories_of_depression_history',\n",
        " 'nbarnes/knowlab_real/wikipedia_projects/science_articles/Superficial_muscular_aponeurotic_system_history',\n",
        " 'nbarnes/knowlab_real/wikipedia_projects/science_articles/Bioethics_history',\n",
        " 'nbarnes/knowlab_real/wikipedia_projects/science_articles/Mathematical_physics_history',\n",
        " 'nbarnes/knowlab_real/wikipedia_projects/science_articles/Photosystem_II_history',\n",
        " 'nbarnes/knowlab_real/wikipedia_projects/science_articles/Ethidium_bromide_history',\n",
        " 'nbarnes/knowlab_real/wikipedia_projects/science_articles/Magnetic_sail_history',\n",
        " 'nbarnes/knowlab_real/wikipedia_projects/science_articles/Extensor_retinaculum__disambiguation__history',\n",
        " 'nbarnes/knowlab_real/wikipedia_projects/science_articles/Medical_privacy_history',\n",
        " 'nbarnes/knowlab_real/wikipedia_projects/science_articles/Inducer_history',\n",
        " 'nbarnes/knowlab_real/wikipedia_projects/science_articles/Understanding_history',\n",
        " 'nbarnes/knowlab_real/wikipedia_projects/science_articles/Rose_quartz_history',\n",
        " 'nbarnes/knowlab_real/wikipedia_projects/science_articles/Thermocline_history',\n",
        " 'nbarnes/knowlab_real/wikipedia_projects/science_articles/Frog_battery_history',\n",
        " 'nbarnes/knowlab_real/wikipedia_projects/science_articles/Olivocerebellar_axon_history',\n",
        " 'nbarnes/knowlab_real/wikipedia_projects/science_articles/Middle_concha_history',\n",
        " 'nbarnes/knowlab_real/wikipedia_projects/science_articles/Night_sky_history',\n",
        " 'nbarnes/knowlab_real/wikipedia_projects/science_articles/The_Trimates_history',\n",
        " 'nbarnes/knowlab_real/wikipedia_projects/science_articles/Svante_Arrhenius_history',\n",
        " 'nbarnes/knowlab_real/wikipedia_projects/science_articles/Representativeness_heuristic_history',\n",
        " 'nbarnes/knowlab_real/wikipedia_projects/science_articles/Alveolar_history',\n",
        " 'nbarnes/knowlab_real/wikipedia_projects/science_articles/Patellar_dislocation_history',\n",
        " 'nbarnes/knowlab_real/wikipedia_projects/science_articles/Transperineal_biopsy_history',\n",
        " 'nbarnes/knowlab_real/wikipedia_projects/science_articles/Mesmerism_history',\n",
        " 'nbarnes/knowlab_real/wikipedia_projects/science_articles/Osteotomy_history',\n",
        " 'nbarnes/knowlab_real/wikipedia_projects/science_articles/Immunity__medical__history',\n",
        " 'nbarnes/knowlab_real/wikipedia_projects/science_articles/Minisatellite_history',\n",
        " 'nbarnes/knowlab_real/wikipedia_projects/science_articles/Lymph_nodes_history',\n",
        " 'nbarnes/knowlab_real/wikipedia_projects/science_articles/Superficial_charm_history',\n",
        " 'nbarnes/knowlab_real/wikipedia_projects/science_articles/Plant_Resources_of_Tropical_Africa_history',\n",
        " 'nbarnes/knowlab_real/wikipedia_projects/science_articles/Ion_gun_history',\n",
        " 'nbarnes/knowlab_real/wikipedia_projects/science_articles/Pollution_history',\n",
        " 'nbarnes/knowlab_real/wikipedia_projects/science_articles/CACNB4_history',\n",
        " 'nbarnes/knowlab_real/wikipedia_projects/science_articles/Helen_Flanders_Dunbar_history',\n",
        " 'nbarnes/knowlab_real/wikipedia_projects/science_articles/Critical_psychology_history',\n",
        " 'nbarnes/knowlab_real/wikipedia_projects/science_articles/Plasma_speaker_history',\n",
        " 'nbarnes/knowlab_real/wikipedia_projects/science_articles/Epidemiological_surveillance_history',\n",
        " 'nbarnes/knowlab_real/wikipedia_projects/science_articles/Zeng_Fanyi_history',\n",
        " 'nbarnes/knowlab_real/wikipedia_projects/science_articles/Wavefunction_collapse_history',\n",
        " 'nbarnes/knowlab_real/wikipedia_projects/science_articles/Intravenous_therapy_history',\n",
        " 'nbarnes/knowlab_real/wikipedia_projects/science_articles/Charles_de_Secondat,_Baron_de_Montesquieu_history',\n",
        " 'nbarnes/knowlab_real/wikipedia_projects/science_articles/Reaction_formation_history',\n",
        " 'nbarnes/knowlab_real/wikipedia_projects/science_articles/Agger_nasi_history',\n",
        " 'nbarnes/knowlab_real/wikipedia_projects/science_articles/Social_medicine_history',\n",
        " 'nbarnes/knowlab_real/wikipedia_projects/science_articles/Heterophobia_history',\n",
        " 'nbarnes/knowlab_real/wikipedia_projects/science_articles/Andrology_history',\n",
        " 'nbarnes/knowlab_real/wikipedia_projects/science_articles/Movement_context_in_handwriting_history',\n",
        " 'nbarnes/knowlab_real/wikipedia_projects/science_articles/NT__temperament__history',\n",
        " 'nbarnes/knowlab_real/wikipedia_projects/science_articles/Klatskin_tumor_history',\n",
        " 'nbarnes/knowlab_real/wikipedia_projects/science_articles/Radio_telescope_history',\n",
        " 'nbarnes/knowlab_real/wikipedia_projects/science_articles/Main_pulmonary_artery_history',\n",
        " 'nbarnes/knowlab_real/wikipedia_projects/science_articles/Herscovici_classification_history',\n",
        " 'nbarnes/knowlab_real/wikipedia_projects/science_articles/Mesoscale_meteorology_history',\n",
        " 'nbarnes/knowlab_real/wikipedia_projects/science_articles/Overall_Survival__page_does_not_exist__history',\n",
        " 'nbarnes/knowlab_real/wikipedia_projects/science_articles/Helen_Dean_King_history',\n",
        " 'nbarnes/knowlab_real/wikipedia_projects/science_articles/Frances_Yao_history',\n",
        " 'nbarnes/knowlab_real/wikipedia_projects/science_articles/Polar_high_history',\n",
        " 'nbarnes/knowlab_real/wikipedia_projects/science_articles/Radioactive_palladium__page_does_not_exist__history',\n",
        " 'nbarnes/knowlab_real/wikipedia_projects/science_articles/Sinusitis_history',\n",
        " 'nbarnes/knowlab_real/wikipedia_projects/science_articles/Energy_level_splitting_history',\n",
        " 'nbarnes/knowlab_real/wikipedia_projects/science_articles/Paraaortic_lymph_node_history',\n",
        " 'nbarnes/knowlab_real/wikipedia_projects/science_articles/KCNK10_history',\n",
        " 'nbarnes/knowlab_real/wikipedia_projects/science_articles/Mantle__geology__history',\n",
        " 'nbarnes/knowlab_real/wikipedia_projects/science_articles/Endocrine_pancreas_cell_history',\n",
        " 'nbarnes/knowlab_real/wikipedia_projects/science_articles/Apley_scratch_test__page_does_not_exist__history',\n",
        " 'nbarnes/knowlab_real/wikipedia_projects/science_articles/Claudia_Alexander_history',\n",
        " 'nbarnes/knowlab_real/wikipedia_projects/science_articles/Lymphoscintigraphy_history',\n",
        " 'nbarnes/knowlab_real/wikipedia_projects/science_articles/Fly_spray_history',\n",
        " 'nbarnes/knowlab_real/wikipedia_projects/science_articles/Hormonal_therapy_history',\n",
        " 'nbarnes/knowlab_real/wikipedia_projects/science_articles/Life_Extension_Foundation_history',\n",
        " 'nbarnes/knowlab_real/wikipedia_projects/science_articles/Centromedian_nucleus_history',\n",
        " 'nbarnes/knowlab_real/wikipedia_projects/science_articles/Regression__medicine__history',\n",
        " 'nbarnes/knowlab_real/wikipedia_projects/science_articles/Folk_medicine_history',\n",
        " 'nbarnes/knowlab_real/wikipedia_projects/science_articles/Palpation_history',\n",
        " 'nbarnes/knowlab_real/wikipedia_projects/science_articles/Nonlytic__page_does_not_exist__history',\n",
        " 'nbarnes/knowlab_real/wikipedia_projects/science_articles/Coxa_vara_history',\n",
        " 'nbarnes/knowlab_real/wikipedia_projects/science_articles/Masculinity_history',\n",
        " 'nbarnes/knowlab_real/wikipedia_projects/science_articles/Conformational_epitope_history',\n",
        " 'nbarnes/knowlab_real/wikipedia_projects/science_articles/Artery_history',\n",
        " 'nbarnes/knowlab_real/wikipedia_projects/science_articles/Sigmund_Freud_Archives_history',\n",
        " 'nbarnes/knowlab_real/wikipedia_projects/science_articles/Sensory_gating_history',\n",
        " 'nbarnes/knowlab_real/wikipedia_projects/science_articles/Benomyl_history',\n",
        " 'nbarnes/knowlab_real/wikipedia_projects/science_articles/Computational_immunology_history',\n",
        " 'nbarnes/knowlab_real/wikipedia_projects/science_articles/Love_styles_history',\n",
        " 'nbarnes/knowlab_real/wikipedia_projects/science_articles/Radioisotope_heater_units_history',\n",
        " 'nbarnes/knowlab_real/wikipedia_projects/science_articles/Cell_membrane_history',\n",
        " 'nbarnes/knowlab_real/wikipedia_projects/science_articles/Noonan_syndrome_history',\n",
        " 'nbarnes/knowlab_real/wikipedia_projects/science_articles/Chronic_idiopathic_myelofibrosis_history',\n",
        " 'nbarnes/knowlab_real/wikipedia_projects/science_articles/Deep_cerebellar_nuclei_history',\n",
        " 'nbarnes/knowlab_real/wikipedia_projects/science_articles/Jansens_metaphyseal_chondrodysplasia_history',\n",
        " 'nbarnes/knowlab_real/wikipedia_projects/science_articles/Gene_complex_history',\n",
        " 'nbarnes/knowlab_real/wikipedia_projects/science_articles/Bile_duct_history',\n",
        " 'nbarnes/knowlab_real/wikipedia_projects/science_articles/Metacinnabarite_history',\n",
        " 'nbarnes/knowlab_real/wikipedia_projects/science_articles/Voyeurism_history',\n",
        " 'nbarnes/knowlab_real/wikipedia_projects/science_articles/Red_nucleus_history',\n",
        " 'nbarnes/knowlab_real/wikipedia_projects/science_articles/NKG2D_history',\n",
        " 'nbarnes/knowlab_real/wikipedia_projects/science_articles/Modernization_history',\n",
        " 'nbarnes/knowlab_real/wikipedia_projects/science_articles/Nephiline_history',\n",
        " 'nbarnes/knowlab_real/wikipedia_projects/science_articles/Locus_coeruleus_history',\n",
        " 'nbarnes/knowlab_real/wikipedia_projects/science_articles/Elasticity_of_cell_membranes_history',\n",
        " 'nbarnes/knowlab_real/wikipedia_projects/science_articles/Teniposide_history',\n",
        " 'nbarnes/knowlab_real/wikipedia_projects/science_articles/Block_design_test_history',\n",
        " 'nbarnes/knowlab_real/wikipedia_projects/science_articles/Pre-conception_counseling_history',\n",
        " 'nbarnes/knowlab_real/wikipedia_projects/science_articles/Janet_Vaughan_history',\n",
        " 'nbarnes/knowlab_real/wikipedia_projects/science_articles/Short_course_immune_induction_therapy_history',\n",
        " 'nbarnes/knowlab_real/wikipedia_projects/science_articles/Polyandry_history',\n",
        " 'nbarnes/knowlab_real/wikipedia_projects/science_articles/Jefferson_fracture_history',\n",
        " 'nbarnes/knowlab_real/wikipedia_projects/science_articles/Radiological_weapon_history',\n",
        " 'nbarnes/knowlab_real/wikipedia_projects/science_articles/Structure_and_agency_history',\n",
        " 'nbarnes/knowlab_real/wikipedia_projects/science_articles/Mary_Peters_Fieser_history',\n",
        " 'nbarnes/knowlab_real/wikipedia_projects/science_articles/Plasma_source_history',\n",
        " 'nbarnes/knowlab_real/wikipedia_projects/science_articles/Leukocyte_extravasation_history',\n",
        " 'nbarnes/knowlab_real/wikipedia_projects/science_articles/Experimental_cancer_treatment_history',\n",
        " 'nbarnes/knowlab_real/wikipedia_projects/science_articles/Dendrite_history',\n",
        " 'nbarnes/knowlab_real/wikipedia_projects/science_articles/Blastula_history',\n",
        " 'nbarnes/knowlab_real/wikipedia_projects/science_articles/Agarose_gel_history',\n",
        " 'nbarnes/knowlab_real/wikipedia_projects/science_articles/Tandy_Warnow_history',\n",
        " 'nbarnes/knowlab_real/wikipedia_projects/science_articles/Excimer_lamp_history',\n",
        " 'nbarnes/knowlab_real/wikipedia_projects/science_articles/Centrum_semi__page_does_not_exist__history',\n",
        " 'nbarnes/knowlab_real/wikipedia_projects/science_articles/Phallus_history',\n",
        " 'nbarnes/knowlab_real/wikipedia_projects/science_articles/Surface_acoustic_wave_history',\n",
        " 'nbarnes/knowlab_real/wikipedia_projects/science_articles/Dream_transference_history',\n",
        " 'nbarnes/knowlab_real/wikipedia_projects/science_articles/Aqueductal_stenosis_history',\n",
        " 'nbarnes/knowlab_real/wikipedia_projects/science_articles/Scapegoat_history',\n",
        " 'nbarnes/knowlab_real/wikipedia_projects/science_articles/Fenoprop_history',\n",
        " 'nbarnes/knowlab_real/wikipedia_projects/science_articles/Subserosa_history',\n",
        " 'nbarnes/knowlab_real/wikipedia_projects/science_articles/Burkitts_leukemia_history',\n",
        " 'nbarnes/knowlab_real/wikipedia_projects/science_articles/Harold_Clayton_Urey_history',\n",
        " 'nbarnes/knowlab_real/wikipedia_projects/science_articles/Carolyne_M_Van_Vliet_history',\n",
        " 'nbarnes/knowlab_real/wikipedia_projects/science_articles/Coding_strand_history',\n",
        " 'nbarnes/knowlab_real/wikipedia_projects/science_articles/World_Solar_Challenge_history',\n",
        " 'nbarnes/knowlab_real/wikipedia_projects/science_articles/Alu_family_history',\n",
        " 'nbarnes/knowlab_real/wikipedia_projects/science_articles/Cooperative_Institute_for_Atmospheric_Sciences_and_Terrestrial_Applications_history',\n",
        " 'nbarnes/knowlab_real/wikipedia_projects/science_articles/Turbinate_history',\n",
        " 'nbarnes/knowlab_real/wikipedia_projects/science_articles/Osteitis_fibrosa_cystica_history',\n",
        " 'nbarnes/knowlab_real/wikipedia_projects/science_articles/Paleobotany_history',\n",
        " 'nbarnes/knowlab_real/wikipedia_projects/science_articles/Patricks_test_history',\n",
        " 'nbarnes/knowlab_real/wikipedia_projects/science_articles/Peter_Debye_history',\n",
        " 'nbarnes/knowlab_real/wikipedia_projects/science_articles/Sister_chromatid_history',\n",
        " 'nbarnes/knowlab_real/wikipedia_projects/science_articles/Fusion_energy_gain_factor_history',\n",
        " 'nbarnes/knowlab_real/wikipedia_projects/science_articles/Parenteral_history',\n",
        " 'nbarnes/knowlab_real/wikipedia_projects/science_articles/World_Climate_Change_Conference,_Moscow_history',\n",
        " 'nbarnes/knowlab_real/wikipedia_projects/science_articles/Philosophy_of_psychology_history',\n",
        " 'nbarnes/knowlab_real/wikipedia_projects/science_articles/Sampling__statistics__history',\n",
        " 'nbarnes/knowlab_real/wikipedia_projects/science_articles/Parotidectomy_history',\n",
        " 'nbarnes/knowlab_real/wikipedia_projects/science_articles/Malthusian_Growth_Model_history',\n",
        " 'nbarnes/knowlab_real/wikipedia_projects/science_articles/Propositional_attitude_history',\n",
        " 'nbarnes/knowlab_real/wikipedia_projects/science_articles/Aerobic_metabolism_history',\n",
        " 'nbarnes/knowlab_real/wikipedia_projects/science_articles/Trigeminal_lemniscus_history',\n",
        " 'nbarnes/knowlab_real/wikipedia_projects/science_articles/Heinrich_Otto_Wieland_history',\n",
        " 'nbarnes/knowlab_real/wikipedia_projects/science_articles/Central_venous_access_catheter_history',\n",
        " 'nbarnes/knowlab_real/wikipedia_projects/science_articles/Hardinge_lateral_approach_to_the_hip_history',\n",
        " 'nbarnes/knowlab_real/wikipedia_projects/science_articles/Marble_history',\n",
        " 'nbarnes/knowlab_real/wikipedia_projects/science_articles/Neuropeptide_receptor_history',\n",
        " 'nbarnes/knowlab_real/wikipedia_projects/science_articles/Interstitial_radiation_therapy__page_does_not_exist__history',\n",
        " 'nbarnes/knowlab_real/wikipedia_projects/science_articles/Radiometric_dating_history',\n",
        " 'nbarnes/knowlab_real/wikipedia_projects/science_articles/Articular_disc_history',\n",
        " 'nbarnes/knowlab_real/wikipedia_projects/science_articles/Solar_air_conditioning_history',\n",
        " 'nbarnes/knowlab_real/wikipedia_projects/science_articles/Colony_stimulating_factor_1_receptor_history',\n",
        " 'nbarnes/knowlab_real/wikipedia_projects/science_articles/Luminescent_protein_history',\n",
        " 'nbarnes/knowlab_real/wikipedia_projects/science_articles/Speech_synthesis_history',\n",
        " 'nbarnes/knowlab_real/wikipedia_projects/science_articles/Magnetic_weapon_history',\n",
        " 'nbarnes/knowlab_real/wikipedia_projects/science_articles/GMT_history',\n",
        " 'nbarnes/knowlab_real/wikipedia_projects/science_articles/Tetrodotoxin_history',\n",
        " 'nbarnes/knowlab_real/wikipedia_projects/science_articles/IL17RB_history',\n",
        " 'nbarnes/knowlab_real/wikipedia_projects/science_articles/Ecological_modernization_history',\n",
        " 'nbarnes/knowlab_real/wikipedia_projects/science_articles/Genetically_modified_mouse_history',\n",
        " 'nbarnes/knowlab_real/wikipedia_projects/science_articles/Certified_Consulting_Meteorologist_history',\n",
        " 'nbarnes/knowlab_real/wikipedia_projects/science_articles/Nef__protein__history',\n",
        " 'nbarnes/knowlab_real/wikipedia_projects/science_articles/Contiguous_genes__page_does_not_exist__history',\n",
        " 'nbarnes/knowlab_real/wikipedia_projects/science_articles/Interstitial_region_history',\n",
        " 'nbarnes/knowlab_real/wikipedia_projects/science_articles/Saquinavir_mesylate_history',\n",
        " 'nbarnes/knowlab_real/wikipedia_projects/science_articles/His_tag_history',\n",
        " 'nbarnes/knowlab_real/wikipedia_projects/science_articles/Plasmid_history',\n",
        " 'nbarnes/knowlab_real/wikipedia_projects/science_articles/Boutonniere_deformity_history',\n",
        " 'nbarnes/knowlab_real/wikipedia_projects/science_articles/Chapman_function_history',\n",
        " 'nbarnes/knowlab_real/wikipedia_projects/science_articles/Energetic_neutral_atom_history',\n",
        " 'nbarnes/knowlab_real/wikipedia_projects/science_articles/Mammography_history',\n",
        " 'nbarnes/knowlab_real/wikipedia_projects/science_articles/Mu_phage_history',\n",
        " 'nbarnes/knowlab_real/wikipedia_projects/science_articles/Ciprofloxacin_history',\n",
        " 'nbarnes/knowlab_real/wikipedia_projects/science_articles/Juliet_Wege_history',\n",
        " 'nbarnes/knowlab_real/wikipedia_projects/science_articles/Intensification__page_does_not_exist__history',\n",
        " 'nbarnes/knowlab_real/wikipedia_projects/science_articles/David_Mervyn_Blow_history',\n",
        " 'nbarnes/knowlab_real/wikipedia_projects/science_articles/Water_cycle_history',\n",
        " 'nbarnes/knowlab_real/wikipedia_projects/science_articles/Superciliary_arch_history',\n",
        " 'nbarnes/knowlab_real/wikipedia_projects/science_articles/Dehydroepiandrosterone_history',\n",
        " 'nbarnes/knowlab_real/wikipedia_projects/science_articles/Waverider_history',\n",
        " 'nbarnes/knowlab_real/wikipedia_projects/science_articles/Energy_Probe_history',\n",
        " 'nbarnes/knowlab_real/wikipedia_projects/science_articles/Concretion_history',\n",
        " 'nbarnes/knowlab_real/wikipedia_projects/science_articles/Organized_crime_history',\n",
        " 'nbarnes/knowlab_real/wikipedia_projects/science_articles/Plasma_gasification_commercialization_history',\n",
        " 'nbarnes/knowlab_real/wikipedia_projects/science_articles/EF5_history',\n",
        " 'nbarnes/knowlab_real/wikipedia_projects/science_articles/Cerebrum_history',\n",
        " 'nbarnes/knowlab_real/wikipedia_projects/science_articles/Hydroelectricity_history',\n",
        " 'nbarnes/knowlab_real/wikipedia_projects/science_articles/Steam_bus_history',\n",
        " 'nbarnes/knowlab_real/wikipedia_projects/science_articles/Physiologically_active_compound__page_does_not_exist__history',\n",
        " 'nbarnes/knowlab_real/wikipedia_projects/science_articles/Oogenesis_history',\n",
        " 'nbarnes/knowlab_real/wikipedia_projects/science_articles/Elliptic_flow_history',\n",
        " 'nbarnes/knowlab_real/wikipedia_projects/science_articles/Ultrasonography_history',\n",
        " 'nbarnes/knowlab_real/wikipedia_projects/science_articles/Diet_and_obesity_history',\n",
        " 'nbarnes/knowlab_real/wikipedia_projects/science_articles/Radiation_damping_history',\n",
        " 'nbarnes/knowlab_real/wikipedia_projects/science_articles/Phosphothreonine_history',\n",
        " 'nbarnes/knowlab_real/wikipedia_projects/science_articles/Satellite_history',\n",
        " 'nbarnes/knowlab_real/wikipedia_projects/science_articles/Diffraction_grating_history',\n",
        " 'nbarnes/knowlab_real/wikipedia_projects/science_articles/Rofecoxib_history',\n",
        " 'nbarnes/knowlab_real/wikipedia_projects/science_articles/Corona_radiata_history',\n",
        " 'nbarnes/knowlab_real/wikipedia_projects/science_articles/Dana_Randall_history',\n",
        " 'nbarnes/knowlab_real/wikipedia_projects/science_articles/Pain_and_pleasure_history',\n",
        " 'nbarnes/knowlab_real/wikipedia_projects/science_articles/Aquamarine_Power_history',\n",
        " 'nbarnes/knowlab_real/wikipedia_projects/science_articles/Diana_Baumrind_history',\n",
        " 'nbarnes/knowlab_real/wikipedia_projects/science_articles/Noreen_Murray_history',\n",
        " 'nbarnes/knowlab_real/wikipedia_projects/science_articles/Numerical_resistivity_history',\n",
        " 'nbarnes/knowlab_real/wikipedia_projects/science_articles/Radiology_history',\n",
        " 'nbarnes/knowlab_real/wikipedia_projects/science_articles/Smoldering_myeloma_history',\n",
        " 'nbarnes/knowlab_real/wikipedia_projects/science_articles/Masseteric_vessels_history',\n",
        " 'nbarnes/knowlab_real/wikipedia_projects/science_articles/Hippocampus_history',\n",
        " 'nbarnes/knowlab_real/wikipedia_projects/science_articles/Plastic_surgery_history',\n",
        " 'nbarnes/knowlab_real/wikipedia_projects/science_articles/Aura__optics__history',\n",
        " 'nbarnes/knowlab_real/wikipedia_projects/science_articles/TRPC5_history',\n",
        " 'nbarnes/knowlab_real/wikipedia_projects/science_articles/Waveguide__electromagnetism__history',\n",
        " 'nbarnes/knowlab_real/wikipedia_projects/science_articles/Smiths_fracture_history',\n",
        " 'nbarnes/knowlab_real/wikipedia_projects/science_articles/Immunosuppressive_history',\n",
        " 'nbarnes/knowlab_real/wikipedia_projects/science_articles/Industrial_production_history',\n",
        " 'nbarnes/knowlab_real/wikipedia_projects/science_articles/Isozyme_history',\n",
        " 'nbarnes/knowlab_real/wikipedia_projects/science_articles/Insight_history',\n",
        " 'nbarnes/knowlab_real/wikipedia_projects/science_articles/Internuncial__page_does_not_exist__history',\n",
        " 'nbarnes/knowlab_real/wikipedia_projects/science_articles/Auger_electron_spectroscopy_history',\n",
        " 'nbarnes/knowlab_real/wikipedia_projects/science_articles/Protuberance__page_does_not_exist__history',\n",
        " 'nbarnes/knowlab_real/wikipedia_projects/science_articles/Hyperthyroidism_history',\n",
        " 'nbarnes/knowlab_real/wikipedia_projects/science_articles/Conductivity__electrolytic__history',\n",
        " 'nbarnes/knowlab_real/wikipedia_projects/science_articles/Thermal_barrier_coating_history',\n",
        " 'nbarnes/knowlab_real/wikipedia_projects/science_articles/Macroevolution_history',\n",
        " 'nbarnes/knowlab_real/wikipedia_projects/science_articles/Robert_S_Mulliken_history',\n",
        " 'nbarnes/knowlab_real/wikipedia_projects/science_articles/Hallucinosis_history',\n",
        " 'nbarnes/knowlab_real/wikipedia_projects/science_articles/Perchlorate_history',\n",
        " 'nbarnes/knowlab_real/wikipedia_projects/science_articles/Chemiosmosis_history',\n",
        " 'nbarnes/knowlab_real/wikipedia_projects/science_articles/Group_synergy_history',\n",
        " 'nbarnes/knowlab_real/wikipedia_projects/science_articles/Cerebellar_peduncle__disambiguation__history',\n",
        " 'nbarnes/knowlab_real/wikipedia_projects/science_articles/Edward_Jenner_history',\n",
        " 'nbarnes/knowlab_real/wikipedia_projects/science_articles/Oxidation_state_history',\n",
        " 'nbarnes/knowlab_real/wikipedia_projects/science_articles/CLCN6_history',\n",
        " 'nbarnes/knowlab_real/wikipedia_projects/science_articles/Exon_history',\n",
        " 'nbarnes/knowlab_real/wikipedia_projects/science_articles/Intergenic_history',\n",
        " 'nbarnes/knowlab_real/wikipedia_projects/science_articles/Thiol_history',\n",
        " 'nbarnes/knowlab_real/wikipedia_projects/science_articles/Middle_latitudes_history',\n",
        " 'nbarnes/knowlab_real/wikipedia_projects/science_articles/Shaker_gene_history',\n",
        " 'nbarnes/knowlab_real/wikipedia_projects/science_articles/Multiple_myeloma_history',\n",
        " 'nbarnes/knowlab_real/wikipedia_projects/science_articles/Helical_computed_tomography_history',\n",
        " 'nbarnes/knowlab_real/wikipedia_projects/science_articles/Interhemispheric_fissure_history',\n",
        " 'nbarnes/knowlab_real/wikipedia_projects/science_articles/Thomas_R_Cech_history',\n",
        " 'nbarnes/knowlab_real/wikipedia_projects/science_articles/Pubic_hair_history',\n",
        " 'nbarnes/knowlab_real/wikipedia_projects/science_articles/Lomustine_history',\n",
        " 'nbarnes/knowlab_real/wikipedia_projects/science_articles/Schadenfreude_history',\n",
        " 'nbarnes/knowlab_real/wikipedia_projects/science_articles/Animal-assisted_therapy_history',\n",
        " 'nbarnes/knowlab_real/wikipedia_projects/science_articles/Segmental_mastectomy__page_does_not_exist__history',\n",
        " 'nbarnes/knowlab_real/wikipedia_projects/science_articles/Promoter__biology__history',\n",
        " 'nbarnes/knowlab_real/wikipedia_projects/science_articles/Plasminogen_history',\n",
        " 'nbarnes/knowlab_real/wikipedia_projects/science_articles/Plant_propagation_history',\n",
        " 'nbarnes/knowlab_real/wikipedia_projects/science_articles/Datolite_history',\n",
        " 'nbarnes/knowlab_real/wikipedia_projects/science_articles/Computerized_tomography_history',\n",
        " 'nbarnes/knowlab_real/wikipedia_projects/science_articles/Earth_bulge_history',\n",
        " 'nbarnes/knowlab_real/wikipedia_projects/science_articles/Shade_garden_history',\n",
        " 'nbarnes/knowlab_real/wikipedia_projects/science_articles/Functional_spinal_unit_history',\n",
        " 'nbarnes/knowlab_real/wikipedia_projects/science_articles/Island_arc_history',\n",
        " 'nbarnes/knowlab_real/wikipedia_projects/science_articles/DNA_electrophoresis_history',\n",
        " 'nbarnes/knowlab_real/wikipedia_projects/science_articles/Microquasar_history',\n",
        " 'nbarnes/knowlab_real/wikipedia_projects/science_articles/Papilledema_history',\n",
        " 'nbarnes/knowlab_real/wikipedia_projects/science_articles/Malpighi_body__disambiguation__history',\n",
        " 'nbarnes/knowlab_real/wikipedia_projects/science_articles/Hawkins_classification__page_does_not_exist__history',\n",
        " 'nbarnes/knowlab_real/wikipedia_projects/science_articles/Cytokine_redundancy_history',\n",
        " 'nbarnes/knowlab_real/wikipedia_projects/science_articles/Bridging_veins_history',\n",
        " 'nbarnes/knowlab_real/wikipedia_projects/science_articles/Dentistry_history',\n",
        " 'nbarnes/knowlab_real/wikipedia_projects/science_articles/Autoimmune_regulator_history',\n",
        " 'nbarnes/knowlab_real/wikipedia_projects/science_articles/Cytotoxic_T_cell_history',\n",
        " 'nbarnes/knowlab_real/wikipedia_projects/science_articles/Connective_tissue_history',\n",
        " 'nbarnes/knowlab_real/wikipedia_projects/science_articles/Aromatase_inhibitor_history',\n",
        " 'nbarnes/knowlab_real/wikipedia_projects/science_articles/Intercropping_history',\n",
        " 'nbarnes/knowlab_real/wikipedia_projects/science_articles/Tetrad__chromosomal_formation__history',\n",
        " 'nbarnes/knowlab_real/wikipedia_projects/science_articles/Molecular_imprinting_history',\n",
        " 'nbarnes/knowlab_real/wikipedia_projects/science_articles/Henry_Walter_Bates_history',\n",
        " 'nbarnes/knowlab_real/wikipedia_projects/science_articles/Hybrid_plasmid_history',\n",
        " 'nbarnes/knowlab_real/wikipedia_projects/science_articles/Parietal_cell_history',\n",
        " 'nbarnes/knowlab_real/wikipedia_projects/science_articles/Atypical_hyperplasia_history',\n",
        " 'nbarnes/knowlab_real/wikipedia_projects/science_articles/Virtual_temperature_history',\n",
        " 'nbarnes/knowlab_real/wikipedia_projects/science_articles/Pes_hippocampi_history',\n",
        " 'nbarnes/knowlab_real/wikipedia_projects/science_articles/Filament_propagation_history',\n",
        " 'nbarnes/knowlab_real/wikipedia_projects/science_articles/Tomography_history',\n",
        " 'nbarnes/knowlab_real/wikipedia_projects/science_articles/South_American_capital_cities_history',\n",
        " 'nbarnes/knowlab_real/wikipedia_projects/science_articles/Hip_bone_history',\n",
        " 'nbarnes/knowlab_real/wikipedia_projects/science_articles/Grace_Chisholm_Young_history',\n",
        " 'nbarnes/knowlab_real/wikipedia_projects/science_articles/Quasar_history',\n",
        " 'nbarnes/knowlab_real/wikipedia_projects/science_articles/Appendicular_skeleton_history',\n",
        " 'nbarnes/knowlab_real/wikipedia_projects/science_articles/Endochondral_ossification_history',\n",
        " 'nbarnes/knowlab_real/wikipedia_projects/science_articles/Higher_education_history',\n",
        " 'nbarnes/knowlab_real/wikipedia_projects/science_articles/China_history',\n",
        " 'nbarnes/knowlab_real/wikipedia_projects/science_articles/G_Ledyard_Stebbins_history',\n",
        " 'nbarnes/knowlab_real/wikipedia_projects/science_articles/Autoimmune_lymphoproliferative_syndrome_history',\n",
        " 'nbarnes/knowlab_real/wikipedia_projects/science_articles/Heterozygote_history',\n",
        " 'nbarnes/knowlab_real/wikipedia_projects/science_articles/Solar_keratosis_history',\n",
        " 'nbarnes/knowlab_real/wikipedia_projects/science_articles/CCL19_history',\n",
        " 'nbarnes/knowlab_real/wikipedia_projects/science_articles/Obex_history',\n",
        " 'nbarnes/knowlab_real/wikipedia_projects/science_articles/Phenoxy_herbicide_history',\n",
        " 'nbarnes/knowlab_real/wikipedia_projects/science_articles/Molecular_biology_history',\n",
        " 'nbarnes/knowlab_real/wikipedia_projects/science_articles/Actinide_history',\n",
        " 'nbarnes/knowlab_real/wikipedia_projects/science_articles/Gene_knockout_history',\n",
        " 'nbarnes/knowlab_real/wikipedia_projects/science_articles/Doubling_time_history',\n",
        " 'nbarnes/knowlab_real/wikipedia_projects/science_articles/Online_pharmacy_history',\n",
        " 'nbarnes/knowlab_real/wikipedia_projects/science_articles/Traction_splint_history',\n",
        " 'nbarnes/knowlab_real/wikipedia_projects/science_articles/Cinnabarite_history',\n",
        " 'nbarnes/knowlab_real/wikipedia_projects/science_articles/Berkelium_history',\n",
        " 'nbarnes/knowlab_real/wikipedia_projects/science_articles/Solar_minimum_history',\n",
        " 'nbarnes/knowlab_real/wikipedia_projects/science_articles/Engineering_geology_history',\n",
        " 'nbarnes/knowlab_real/wikipedia_projects/science_articles/Peer_group_history',\n",
        " 'nbarnes/knowlab_real/wikipedia_projects/science_articles/Pyrazine_diazohydroxide__page_does_not_exist__history',\n",
        " 'nbarnes/knowlab_real/wikipedia_projects/science_articles/Nuclear_medicine_history',\n",
        " 'nbarnes/knowlab_real/wikipedia_projects/science_articles/Gene_interaction_history',\n",
        " 'nbarnes/knowlab_real/wikipedia_projects/science_articles/Work_loop_history',\n",
        " 'nbarnes/knowlab_real/wikipedia_projects/science_articles/Laboratory_study__page_does_not_exist__history',\n",
        " 'nbarnes/knowlab_real/wikipedia_projects/science_articles/Peptidyl_transferase_history',\n",
        " 'nbarnes/knowlab_real/wikipedia_projects/science_articles/Ectrodactyly_history',\n",
        " 'nbarnes/knowlab_real/wikipedia_projects/science_articles/Association_for_Women_Geoscientists_history',\n",
        " 'nbarnes/knowlab_real/wikipedia_projects/science_articles/Ras_gene_history',\n",
        " 'nbarnes/knowlab_real/wikipedia_projects/science_articles/Histamine_H2_receptor_history',\n",
        " 'nbarnes/knowlab_real/wikipedia_projects/science_articles/DNA_cloning_history',\n",
        " 'nbarnes/knowlab_real/wikipedia_projects/science_articles/Bioaccumulate_history',\n",
        " 'nbarnes/knowlab_real/wikipedia_projects/science_articles/Osteochondromatosis_history',\n",
        " 'nbarnes/knowlab_real/wikipedia_projects/science_articles/Chromosome_painting_history',\n",
        " 'nbarnes/knowlab_real/wikipedia_projects/science_articles/Molecular_evolution_history',\n",
        " 'nbarnes/knowlab_real/wikipedia_projects/science_articles/Jugular_notch_history',\n",
        " 'nbarnes/knowlab_real/wikipedia_projects/science_articles/Adams_Curse_history',\n",
        " 'nbarnes/knowlab_real/wikipedia_projects/science_articles/Severs_disease_history',\n",
        " 'nbarnes/knowlab_real/wikipedia_projects/science_articles/Vulva_history',\n",
        " 'nbarnes/knowlab_real/wikipedia_projects/science_articles/FADH_history',\n",
        " 'nbarnes/knowlab_real/wikipedia_projects/science_articles/Coumestrol_history',\n",
        " 'nbarnes/knowlab_real/wikipedia_projects/science_articles/Sagittal_suture_history',\n",
        " 'nbarnes/knowlab_real/wikipedia_projects/science_articles/Housekeeping_gene_history',\n",
        " 'nbarnes/knowlab_real/wikipedia_projects/science_articles/Dudley_R_Herschbach_history',\n",
        " 'nbarnes/knowlab_real/wikipedia_projects/science_articles/Epididymis_history',\n",
        " 'nbarnes/knowlab_real/wikipedia_projects/science_articles/Sulfur_dioxide_history',\n",
        " 'nbarnes/knowlab_real/wikipedia_projects/science_articles/Risk_communication_history',\n",
        " 'nbarnes/knowlab_real/wikipedia_projects/science_articles/Hospice_history',\n",
        " 'nbarnes/knowlab_real/wikipedia_projects/science_articles/Thompson_test_history',\n",
        " 'nbarnes/knowlab_real/wikipedia_projects/science_articles/Polymerase_history',\n",
        " 'nbarnes/knowlab_real/wikipedia_projects/science_articles/Diagnostic_trial__page_does_not_exist__history',\n",
        " 'nbarnes/knowlab_real/wikipedia_projects/science_articles/Sphenoethmoidal_recess_history',\n",
        " 'nbarnes/knowlab_real/wikipedia_projects/science_articles/Villous_adenoma_history',\n",
        " 'nbarnes/knowlab_real/wikipedia_projects/science_articles/Mental_calculation_history',\n",
        " 'nbarnes/knowlab_real/wikipedia_projects/science_articles/Larvicide_history',\n",
        " 'nbarnes/knowlab_real/wikipedia_projects/science_articles/Hydroculture_history',\n",
        " 'nbarnes/knowlab_real/wikipedia_projects/science_articles/CDC_National_Prevention_Information_Network_history',\n",
        " 'nbarnes/knowlab_real/wikipedia_projects/science_articles/Condylomata_acuminata_history',\n",
        " 'nbarnes/knowlab_real/wikipedia_projects/science_articles/Ribozyme_history',\n",
        " 'nbarnes/knowlab_real/wikipedia_projects/science_articles/Winifred_Asprey_history',\n",
        " 'nbarnes/knowlab_real/wikipedia_projects/science_articles/Antimorph_history',\n",
        " 'nbarnes/knowlab_real/wikipedia_projects/science_articles/Incestuous_history',\n",
        " 'nbarnes/knowlab_real/wikipedia_projects/science_articles/Cyclin_B_history',\n",
        " 'nbarnes/knowlab_real/wikipedia_projects/science_articles/Airy_disc_history',\n",
        " 'nbarnes/knowlab_real/wikipedia_projects/science_articles/Accessory_cuneate_nucleus_history',\n",
        " 'nbarnes/knowlab_real/wikipedia_projects/science_articles/Gaseous_fission_reactor_history',\n",
        " 'nbarnes/knowlab_real/wikipedia_projects/science_articles/Quantitative_psychological_research_history',\n",
        " 'nbarnes/knowlab_real/wikipedia_projects/science_articles/List_of_sociological_associations_history',\n",
        " 'nbarnes/knowlab_real/wikipedia_projects/science_articles/Arsenic_history',\n",
        " 'nbarnes/knowlab_real/wikipedia_projects/science_articles/Perioperative_medicine_history',\n",
        " 'nbarnes/knowlab_real/wikipedia_projects/science_articles/Resistance_movement_history',\n",
        " 'nbarnes/knowlab_real/wikipedia_projects/science_articles/Sarah_Frances_Whiting_history',\n",
        " 'nbarnes/knowlab_real/wikipedia_projects/science_articles/Active_galaxy_history',\n",
        " 'nbarnes/knowlab_real/wikipedia_projects/science_articles/Hexachloroacetone_history',\n",
        " 'nbarnes/knowlab_real/wikipedia_projects/science_articles/Social_control_history',\n",
        " 'nbarnes/knowlab_real/wikipedia_projects/science_articles/Yvonne_Barr_history',\n",
        " 'nbarnes/knowlab_real/wikipedia_projects/science_articles/Neurotransmitter_receptor_history',\n",
        " 'nbarnes/knowlab_real/wikipedia_projects/science_articles/Rugae_history',\n",
        " 'nbarnes/knowlab_real/wikipedia_projects/science_articles/Cultivar_history',\n",
        " 'nbarnes/knowlab_real/wikipedia_projects/science_articles/Force_history',\n",
        " 'nbarnes/knowlab_real/wikipedia_projects/science_articles/Irradiated_history',\n",
        " 'nbarnes/knowlab_real/wikipedia_projects/science_articles/Double_helix_history',\n",
        " 'nbarnes/knowlab_real/wikipedia_projects/science_articles/Hypothalamotegmental_tract_history',\n",
        " 'nbarnes/knowlab_real/wikipedia_projects/science_articles/Nuocyte_history',\n",
        " 'nbarnes/knowlab_real/wikipedia_projects/science_articles/Marchywka_Effect_history',\n",
        " 'nbarnes/knowlab_real/wikipedia_projects/science_articles/Nostril_history',\n",
        " 'nbarnes/knowlab_real/wikipedia_projects/science_articles/Australasian_Society_for_Experimental_Psychology_history',\n",
        " 'nbarnes/knowlab_real/wikipedia_projects/science_articles/CCL18_history',\n",
        " 'nbarnes/knowlab_real/wikipedia_projects/science_articles/GRINL1A_history',\n",
        " 'nbarnes/knowlab_real/wikipedia_projects/science_articles/Clutter__radar__history',\n",
        " 'nbarnes/knowlab_real/wikipedia_projects/science_articles/Community_psychology_history',\n",
        " 'nbarnes/knowlab_real/wikipedia_projects/science_articles/Index_of_physics_articles__G__history',\n",
        " 'nbarnes/knowlab_real/wikipedia_projects/science_articles/Mutator_mutation__page_does_not_exist__history',\n",
        " 'nbarnes/knowlab_real/wikipedia_projects/science_articles/Wake_history',\n",
        " 'nbarnes/knowlab_real/wikipedia_projects/science_articles/Triquetral_history',\n",
        " 'nbarnes/knowlab_real/wikipedia_projects/science_articles/Microinjection_history',\n",
        " 'nbarnes/knowlab_real/wikipedia_projects/science_articles/Spinal_nerve_history',\n",
        " 'nbarnes/knowlab_real/wikipedia_projects/science_articles/CCL20_history',\n",
        " 'nbarnes/knowlab_real/wikipedia_projects/science_articles/Essential_amino_acid_history',\n",
        " 'nbarnes/knowlab_real/wikipedia_projects/science_articles/Evolutionary_footprinting__page_does_not_exist__history',\n",
        " 'nbarnes/knowlab_real/wikipedia_projects/science_articles/Polygene_history',\n",
        " 'nbarnes/knowlab_real/wikipedia_projects/science_articles/Jane_Lubchenco_history',\n",
        " 'nbarnes/knowlab_real/wikipedia_projects/science_articles/Monazite_history',\n",
        " 'nbarnes/knowlab_real/wikipedia_projects/science_articles/KvLQT1_history',\n",
        " 'nbarnes/knowlab_real/wikipedia_projects/science_articles/Wechsler_Intelligence_Scale_for_Children_history',\n",
        " 'nbarnes/knowlab_real/wikipedia_projects/science_articles/Bicameralism__psychology__history',\n",
        " 'nbarnes/knowlab_real/wikipedia_projects/science_articles/Phenomenology__psychology__history',\n",
        " 'nbarnes/knowlab_real/wikipedia_projects/science_articles/Dosage_compensation_history',\n",
        " 'nbarnes/knowlab_real/wikipedia_projects/science_articles/CACNG2_history',\n",
        " 'nbarnes/knowlab_real/wikipedia_projects/science_articles/Chloroquinoxaline_sulfonamide__page_does_not_exist__history',\n",
        " 'nbarnes/knowlab_real/wikipedia_projects/science_articles/Local_storm_report_history',\n",
        " 'nbarnes/knowlab_real/wikipedia_projects/science_articles/White_blood_cells_history',\n",
        " 'nbarnes/knowlab_real/wikipedia_projects/science_articles/Nucleus_of_Luys_history',\n",
        " 'nbarnes/knowlab_real/wikipedia_projects/science_articles/Plasma_shield_history',\n",
        " 'nbarnes/knowlab_real/wikipedia_projects/science_articles/Buoyancy_history',\n",
        " 'nbarnes/knowlab_real/wikipedia_projects/science_articles/Circle_of_Willis_history',\n",
        " 'nbarnes/knowlab_real/wikipedia_projects/science_articles/Innate_ideas_history',\n",
        " 'nbarnes/knowlab_real/wikipedia_projects/science_articles/Hexazinone_history',\n",
        " 'nbarnes/knowlab_real/wikipedia_projects/science_articles/Truncation_selection_history',\n",
        " 'nbarnes/knowlab_real/wikipedia_projects/science_articles/Femininity_history',\n",
        " 'nbarnes/knowlab_real/wikipedia_projects/science_articles/Cell_membrane_transport_history',\n",
        " 'nbarnes/knowlab_real/wikipedia_projects/science_articles/Elizabeth_J_Feinler_history',\n",
        " 'nbarnes/knowlab_real/wikipedia_projects/science_articles/List_of_psychological_schools_history',\n",
        " 'nbarnes/knowlab_real/wikipedia_projects/science_articles/Tumor_suppressor_history',\n",
        " 'nbarnes/knowlab_real/wikipedia_projects/science_articles/Gamma_ray_history',\n",
        " 'nbarnes/knowlab_real/wikipedia_projects/science_articles/Analcim_history',\n",
        " 'nbarnes/knowlab_real/wikipedia_projects/science_articles/Anisocoria_history',\n",
        " 'nbarnes/knowlab_real/wikipedia_projects/science_articles/Neurotensin_history',\n",
        " 'nbarnes/knowlab_real/wikipedia_projects/science_articles/Risky_shift_history',\n",
        " 'nbarnes/knowlab_real/wikipedia_projects/science_articles/Evans_technique_history',\n",
        " 'nbarnes/knowlab_real/wikipedia_projects/science_articles/Nontranslated_RNA__page_does_not_exist__history',\n",
        " 'nbarnes/knowlab_real/wikipedia_projects/science_articles/Soft_tissue_sarcoma_history',\n",
        " 'nbarnes/knowlab_real/wikipedia_projects/science_articles/Costal_cartilages_history',\n",
        " 'nbarnes/knowlab_real/wikipedia_projects/science_articles/Elder_abuse_history',\n",
        " 'nbarnes/knowlab_real/wikipedia_projects/science_articles/Retroversion_history',\n",
        " 'nbarnes/knowlab_real/wikipedia_projects/science_articles/Georg_Wittig_history',\n",
        " 'nbarnes/knowlab_real/wikipedia_projects/science_articles/Walter_Gilbert_history',\n",
        " 'nbarnes/knowlab_real/wikipedia_projects/science_articles/Social_anxiety_disorder_history',\n",
        " 'nbarnes/knowlab_real/wikipedia_projects/science_articles/Optoelectric_nuclear_battery_history',\n",
        " 'nbarnes/knowlab_real/wikipedia_projects/science_articles/Continent_reservoir__page_does_not_exist__history',\n",
        " 'nbarnes/knowlab_real/wikipedia_projects/science_articles/Supersuppressor__page_does_not_exist__history',\n",
        " 'nbarnes/knowlab_real/wikipedia_projects/science_articles/Hagedorn_temperature_history',\n",
        " 'nbarnes/knowlab_real/wikipedia_projects/science_articles/Crookes_tube_history',\n",
        " 'nbarnes/knowlab_real/wikipedia_projects/science_articles/Cholinergic_receptor,_nicotinic,_alpha_1_history',\n",
        " 'nbarnes/knowlab_real/wikipedia_projects/science_articles/Recombinant_DNA_technology_history',\n",
        " 'nbarnes/knowlab_real/wikipedia_projects/science_articles/Lipid_bilayer_characterization_history',\n",
        " 'nbarnes/knowlab_real/wikipedia_projects/science_articles/Bioengineering_history',\n",
        " 'nbarnes/knowlab_real/wikipedia_projects/science_articles/Phenethyl_isothiocyanate_history',\n",
        " 'nbarnes/knowlab_real/wikipedia_projects/science_articles/Black_Panther_Party_history',\n",
        " 'nbarnes/knowlab_real/wikipedia_projects/science_articles/Mercaptopurine_history',\n",
        " 'nbarnes/knowlab_real/wikipedia_projects/science_articles/Computational_theory_of_mind_history',\n",
        " 'nbarnes/knowlab_real/wikipedia_projects/science_articles/Hermann_von_Helmholtz_history',\n",
        " 'nbarnes/knowlab_real/wikipedia_projects/science_articles/Cervical_dislocation_history',\n",
        " 'nbarnes/knowlab_real/wikipedia_projects/science_articles/Carotid_sinus_history',\n",
        " 'nbarnes/knowlab_real/wikipedia_projects/science_articles/Colemanite_history',\n",
        " 'nbarnes/knowlab_real/wikipedia_projects/science_articles/Tumor_burden__page_does_not_exist__history',\n",
        " 'nbarnes/knowlab_real/wikipedia_projects/science_articles/Food_systems_history',\n",
        " 'nbarnes/knowlab_real/wikipedia_projects/science_articles/Interleukin_3_history',\n",
        " 'nbarnes/knowlab_real/wikipedia_projects/science_articles/Left_ventricle_history',\n",
        " 'nbarnes/knowlab_real/wikipedia_projects/science_articles/Alpha_diversity_history',\n",
        " 'nbarnes/knowlab_real/wikipedia_projects/science_articles/Fipronil_history',\n",
        " 'nbarnes/knowlab_real/wikipedia_projects/science_articles/Mush_zone_history',\n",
        " 'nbarnes/knowlab_real/wikipedia_projects/science_articles/Leah_Jamieson_history',\n",
        " 'nbarnes/knowlab_real/wikipedia_projects/science_articles/Anterior_spinal_artery_history',\n",
        " 'nbarnes/knowlab_real/wikipedia_projects/science_articles/Voodoo_death_history',\n",
        " 'nbarnes/knowlab_real/wikipedia_projects/science_articles/Sense_of_time_history',\n",
        " 'nbarnes/knowlab_real/wikipedia_projects/science_articles/Lymphadenectomy_history',\n",
        " 'nbarnes/knowlab_real/wikipedia_projects/science_articles/Integral_membrane_protein_history',\n",
        " 'nbarnes/knowlab_real/wikipedia_projects/science_articles/CXCL11_history',\n",
        " 'nbarnes/knowlab_real/wikipedia_projects/science_articles/Jocelyn_Bell_Burnell_history',\n",
        " 'nbarnes/knowlab_real/wikipedia_projects/science_articles/Marker_retention__page_does_not_exist__history',\n",
        " 'nbarnes/knowlab_real/wikipedia_projects/science_articles/DNA_marker_history',\n",
        " 'nbarnes/knowlab_real/wikipedia_projects/science_articles/CXCL10_history',\n",
        " 'nbarnes/knowlab_real/wikipedia_projects/science_articles/PEITC_history',\n",
        " 'nbarnes/knowlab_real/wikipedia_projects/science_articles/Teratogenic_history',\n",
        " 'nbarnes/knowlab_real/wikipedia_projects/science_articles/Genetic_erosion_history',\n",
        " 'nbarnes/knowlab_real/wikipedia_projects/science_articles/GABRD_history',\n",
        " 'nbarnes/knowlab_real/wikipedia_projects/science_articles/Bone_scan_history',\n",
        " 'nbarnes/knowlab_real/wikipedia_projects/science_articles/Doppler_shift_history',\n",
        " 'nbarnes/knowlab_real/wikipedia_projects/science_articles/Isocyanate_history',\n",
        " 'nbarnes/knowlab_real/wikipedia_projects/science_articles/Nucleus_ambiguus_history',\n",
        " 'nbarnes/knowlab_real/wikipedia_projects/science_articles/Microbial_symbiosis_and_immunity_history',\n",
        " 'nbarnes/knowlab_real/wikipedia_projects/science_articles/Public_health_history',\n",
        " 'nbarnes/knowlab_real/wikipedia_projects/science_articles/Intervertebral_disc_annuloplasty_history',\n",
        " 'nbarnes/knowlab_real/wikipedia_projects/science_articles/Fragile_site_history',\n",
        " 'nbarnes/knowlab_real/wikipedia_projects/science_articles/Andreas_Mershin_history',\n",
        " 'nbarnes/knowlab_real/wikipedia_projects/science_articles/Periostitis_history',\n",
        " 'nbarnes/knowlab_real/wikipedia_projects/science_articles/John_E_Walker_history',\n",
        " 'nbarnes/knowlab_real/wikipedia_projects/science_articles/Gene_fusion_history',\n",
        " 'nbarnes/knowlab_real/wikipedia_projects/science_articles/Cricoid_cartilage_history',\n",
        " 'nbarnes/knowlab_real/wikipedia_projects/science_articles/Varicocele_history',\n",
        " 'nbarnes/knowlab_real/wikipedia_projects/science_articles/Autowave_history',\n",
        " 'nbarnes/knowlab_real/wikipedia_projects/science_articles/Radio_identification_tag_history',\n",
        " 'nbarnes/knowlab_real/wikipedia_projects/science_articles/History_of_cancer_history',\n",
        " 'nbarnes/knowlab_real/wikipedia_projects/science_articles/Sociological_paradigm_history',\n",
        " 'nbarnes/knowlab_real/wikipedia_projects/science_articles/Palindromic_sequence_history',\n",
        " 'nbarnes/knowlab_real/wikipedia_projects/science_articles/Eustachian_tube_history',\n",
        " 'nbarnes/knowlab_real/wikipedia_projects/science_articles/Neoplasm_history',\n",
        " 'nbarnes/knowlab_real/wikipedia_projects/science_articles/Malgaignes_fracture_history',\n",
        " 'nbarnes/knowlab_real/wikipedia_projects/science_articles/CDNA_history',\n",
        " 'nbarnes/knowlab_real/wikipedia_projects/science_articles/Radiance_history',\n",
        " 'nbarnes/knowlab_real/wikipedia_projects/science_articles/Esophagectomy_history',\n",
        " 'nbarnes/knowlab_real/wikipedia_projects/science_articles/Ribonucleoprotein_history',\n",
        " 'nbarnes/knowlab_real/wikipedia_projects/science_articles/List_of_geneticists__biochemists_history',\n",
        " 'nbarnes/knowlab_real/wikipedia_projects/science_articles/Diaphragmatic_recess__page_does_not_exist__history',\n",
        " 'nbarnes/knowlab_real/wikipedia_projects/science_articles/Secondary_structure_history',\n",
        " 'nbarnes/knowlab_real/wikipedia_projects/science_articles/Radiometer_history',\n",
        " 'nbarnes/knowlab_real/wikipedia_projects/science_articles/Rayleigh_scattering_history',\n",
        " 'nbarnes/knowlab_real/wikipedia_projects/science_articles/True_speciation__page_does_not_exist__history',\n",
        " 'nbarnes/knowlab_real/wikipedia_projects/science_articles/KCNAB2_history',\n",
        " 'nbarnes/knowlab_real/wikipedia_projects/science_articles/Psychology_of_religion_history',\n",
        " 'nbarnes/knowlab_real/wikipedia_projects/science_articles/Depressive_personality_disorder_history',\n",
        " 'nbarnes/knowlab_real/wikipedia_projects/science_articles/Oncogene_history',\n",
        " 'nbarnes/knowlab_real/wikipedia_projects/science_articles/Heterozygosity_history',\n",
        " 'nbarnes/knowlab_real/wikipedia_projects/science_articles/Social_statistics_history',\n",
        " 'nbarnes/knowlab_real/wikipedia_projects/science_articles/Gerta_Keller_history',\n",
        " 'nbarnes/knowlab_real/wikipedia_projects/science_articles/Hepatomegaly_history',\n",
        " 'nbarnes/knowlab_real/wikipedia_projects/science_articles/Fossil_history',\n",
        " 'nbarnes/knowlab_real/wikipedia_projects/science_articles/Neurofeedback_history',\n",
        " 'nbarnes/knowlab_real/wikipedia_projects/science_articles/Active_site_history',\n",
        " 'nbarnes/knowlab_real/wikipedia_projects/science_articles/Aneuploid_history',\n",
        " 'nbarnes/knowlab_real/wikipedia_projects/science_articles/Ortolani_test_history',\n",
        " 'nbarnes/knowlab_real/wikipedia_projects/science_articles/Rotational_energy_history',\n",
        " 'nbarnes/knowlab_real/wikipedia_projects/science_articles/Phase_difference_history',\n",
        " 'nbarnes/knowlab_real/wikipedia_projects/science_articles/Glycoprotein_130_history',\n",
        " 'nbarnes/knowlab_real/wikipedia_projects/science_articles/Pancreaticoduodenal_branches__page_does_not_exist__history',\n",
        " 'nbarnes/knowlab_real/wikipedia_projects/science_articles/Cardiac_skeleton_history',\n",
        " 'nbarnes/knowlab_real/wikipedia_projects/science_articles/Herpetology_history',\n",
        " 'nbarnes/knowlab_real/wikipedia_projects/science_articles/Perspective__cognitive__history',\n",
        " 'nbarnes/knowlab_real/wikipedia_projects/science_articles/Lymphoid_history',\n",
        " 'nbarnes/knowlab_real/wikipedia_projects/science_articles/Oxide_history',\n",
        " 'nbarnes/knowlab_real/wikipedia_projects/science_articles/Floxuridine_history',\n",
        " 'nbarnes/knowlab_real/wikipedia_projects/science_articles/Superior_olivary_nucleus_history',\n",
        " 'nbarnes/knowlab_real/wikipedia_projects/science_articles/Effect_of_Hurricane_Katrina_on_New_Orleans_history',\n",
        " 'nbarnes/knowlab_real/wikipedia_projects/science_articles/Pterygoid_plate_history',\n",
        " 'nbarnes/knowlab_real/wikipedia_projects/science_articles/Zodiacal_light_history',\n",
        " 'nbarnes/knowlab_real/wikipedia_projects/science_articles/CHRNA9_history',\n",
        " 'nbarnes/knowlab_real/wikipedia_projects/science_articles/Outer_hair_cell_history',\n",
        " 'nbarnes/knowlab_real/wikipedia_projects/science_articles/Arrectores_pilorum_history',\n",
        " 'nbarnes/knowlab_real/wikipedia_projects/science_articles/Taste_bud_history',\n",
        " 'nbarnes/knowlab_real/wikipedia_projects/science_articles/Eleanor_Glanville_history',\n",
        " 'nbarnes/knowlab_real/wikipedia_projects/science_articles/Extraversion_and_introversion_history',\n",
        " 'nbarnes/knowlab_real/wikipedia_projects/science_articles/Dental_alveolus_history',\n",
        " 'nbarnes/knowlab_real/wikipedia_projects/science_articles/Hyaline_cartilage_history',\n",
        " 'nbarnes/knowlab_real/wikipedia_projects/science_articles/Prostate_cancer_staging_history',\n",
        " 'nbarnes/knowlab_real/wikipedia_projects/science_articles/Coding_sequence_history',\n",
        " 'nbarnes/knowlab_real/wikipedia_projects/science_articles/Intermediolateral_nucleus_history',\n",
        " 'nbarnes/knowlab_real/wikipedia_projects/science_articles/Population_momentum_history',\n",
        " 'nbarnes/knowlab_real/wikipedia_projects/science_articles/Lytic_history',\n",
        " 'nbarnes/knowlab_real/wikipedia_projects/science_articles/Anamnesis__philosophy__history',\n",
        " 'nbarnes/knowlab_real/wikipedia_projects/science_articles/Radioisotope_history',\n",
        " 'nbarnes/knowlab_real/wikipedia_projects/science_articles/Cotransduction_history',\n",
        " 'nbarnes/knowlab_real/wikipedia_projects/science_articles/Susan_Solomon_history',\n",
        " 'nbarnes/knowlab_real/wikipedia_projects/science_articles/Repetition_compulsion_history',\n",
        " 'nbarnes/knowlab_real/wikipedia_projects/science_articles/Learned_helplessness_history',\n",
        " 'nbarnes/knowlab_real/wikipedia_projects/science_articles/Methodology_history',\n",
        " 'nbarnes/knowlab_real/wikipedia_projects/science_articles/Polyacrylamide_history',\n",
        " 'nbarnes/knowlab_real/wikipedia_projects/science_articles/Substance_P_history',\n",
        " 'nbarnes/knowlab_real/wikipedia_projects/science_articles/Cisterna_history',\n",
        " 'nbarnes/knowlab_real/wikipedia_projects/science_articles/Neurolemma_history',\n",
        " 'nbarnes/knowlab_real/wikipedia_projects/science_articles/Echocardiography_history',\n",
        " 'nbarnes/knowlab_real/wikipedia_projects/science_articles/Autoclave_history',\n",
        " 'nbarnes/knowlab_real/wikipedia_projects/science_articles/Specific_social_phobia_history',\n",
        " 'nbarnes/knowlab_real/wikipedia_projects/science_articles/Beerbellies_history',\n",
        " 'nbarnes/knowlab_real/wikipedia_projects/science_articles/Kohlbergs_stages_of_moral_development_history',\n",
        " 'nbarnes/knowlab_real/wikipedia_projects/science_articles/Parasternal__page_does_not_exist__history',\n",
        " 'nbarnes/knowlab_real/wikipedia_projects/science_articles/Vi_Hart_history',\n",
        " 'nbarnes/knowlab_real/wikipedia_projects/science_articles/Community-based_rehabilitation_history',\n",
        " 'nbarnes/knowlab_real/wikipedia_projects/science_articles/Mononeuritis_multiplex_history',\n",
        " 'nbarnes/knowlab_real/wikipedia_projects/science_articles/Materials_science_history',\n",
        " 'nbarnes/knowlab_real/wikipedia_projects/science_articles/Marginalization_history',\n",
        " 'nbarnes/knowlab_real/wikipedia_projects/science_articles/Prokaryotic_cell_history',\n",
        " 'nbarnes/knowlab_real/wikipedia_projects/science_articles/PUBMED_history',\n",
        " 'nbarnes/knowlab_real/wikipedia_projects/science_articles/Helix__ear__history',\n",
        " 'nbarnes/knowlab_real/wikipedia_projects/science_articles/Transrectal_biopsy_history',\n",
        " 'nbarnes/knowlab_real/wikipedia_projects/science_articles/Phase_III_trials_history',\n",
        " 'nbarnes/knowlab_real/wikipedia_projects/science_articles/Species_evenness_history',\n",
        " 'nbarnes/knowlab_real/wikipedia_projects/science_articles/TRPV_history',\n",
        " 'nbarnes/knowlab_real/wikipedia_projects/science_articles/GABRE_history',\n",
        " 'nbarnes/knowlab_real/wikipedia_projects/science_articles/Metacarpus_history',\n",
        " 'nbarnes/knowlab_real/wikipedia_projects/science_articles/Scutum_history',\n",
        " 'nbarnes/knowlab_real/wikipedia_projects/science_articles/Incest_taboo_history',\n",
        " 'nbarnes/knowlab_real/wikipedia_projects/science_articles/Saha_ionization_equation_history',\n",
        " 'nbarnes/knowlab_real/wikipedia_projects/science_articles/DDT_in_the_United_States_history',\n",
        " 'nbarnes/knowlab_real/wikipedia_projects/science_articles/Loop_excision_history',\n",
        " 'nbarnes/knowlab_real/wikipedia_projects/science_articles/Adenopathy_history',\n",
        " 'nbarnes/knowlab_real/wikipedia_projects/science_articles/Antioxidant_history',\n",
        " 'nbarnes/knowlab_real/wikipedia_projects/science_articles/Double_burden_of_disease__page_does_not_exist__history',\n",
        " 'nbarnes/knowlab_real/wikipedia_projects/science_articles/Rydberg_formula_history',\n",
        " 'nbarnes/knowlab_real/wikipedia_projects/science_articles/Open_relationship_history',\n",
        " 'nbarnes/knowlab_real/wikipedia_projects/science_articles/Domestication_history',\n",
        " 'nbarnes/knowlab_real/wikipedia_projects/science_articles/Occupational_medicine_history',\n",
        " 'nbarnes/knowlab_real/wikipedia_projects/science_articles/Physical_cosmology_history',\n",
        " 'nbarnes/knowlab_real/wikipedia_projects/science_articles/Repetitive_DNA_history',\n",
        " 'nbarnes/knowlab_real/wikipedia_projects/science_articles/Commission_on_Isotopic_Abundances_and_Atomic_Weights_history',\n",
        " 'nbarnes/knowlab_real/wikipedia_projects/science_articles/Preleukemia_history',\n",
        " 'nbarnes/knowlab_real/wikipedia_projects/science_articles/Occipital_horn_history',\n",
        " 'nbarnes/knowlab_real/wikipedia_projects/science_articles/Martha_Chase_history',\n",
        " 'nbarnes/knowlab_real/wikipedia_projects/science_articles/Traumeel_S__page_does_not_exist__history',\n",
        " 'nbarnes/knowlab_real/wikipedia_projects/science_articles/God_helmet_history',\n",
        " 'nbarnes/knowlab_real/wikipedia_projects/science_articles/Civil_society_history',\n",
        " 'nbarnes/knowlab_real/wikipedia_projects/science_articles/Echolalia_history',\n",
        " 'nbarnes/knowlab_real/wikipedia_projects/science_articles/Janet_Rowley_history',\n",
        " 'nbarnes/knowlab_real/wikipedia_projects/science_articles/Mandibular_fossa_history',\n",
        " 'nbarnes/knowlab_real/wikipedia_projects/science_articles/Cryotherapy_history',\n",
        " 'nbarnes/knowlab_real/wikipedia_projects/science_articles/Hertha_Sponer_history',\n",
        " 'nbarnes/knowlab_real/wikipedia_projects/science_articles/Rapid_hormone_cycling_history',\n",
        " 'nbarnes/knowlab_real/wikipedia_projects/science_articles/Immigration_history',\n",
        " 'nbarnes/knowlab_real/wikipedia_projects/science_articles/Dicamba_history',\n",
        " 'nbarnes/knowlab_real/wikipedia_projects/science_articles/Carolus_Linnaeus_history',\n",
        " 'nbarnes/knowlab_real/wikipedia_projects/science_articles/Dorsal_horn__disambiguation___page_does_not_exist__history',\n",
        " 'nbarnes/knowlab_real/wikipedia_projects/science_articles/Parathyroid_hormone_receptor_history',\n",
        " 'nbarnes/knowlab_real/wikipedia_projects/science_articles/QoI_history',\n",
        " 'nbarnes/knowlab_real/wikipedia_projects/science_articles/Mucinous_carcinoma_history',\n",
        " 'nbarnes/knowlab_real/wikipedia_projects/science_articles/List_of_geologists_history',\n",
        " 'nbarnes/knowlab_real/wikipedia_projects/science_articles/Fasciculation_history',\n",
        " 'nbarnes/knowlab_real/wikipedia_projects/science_articles/Mirels_Score_history',\n",
        " 'nbarnes/knowlab_real/wikipedia_projects/science_articles/Carotid_sheath_history',\n",
        " 'nbarnes/knowlab_real/wikipedia_projects/science_articles/Klara_Kedem_history',\n",
        " 'nbarnes/knowlab_real/wikipedia_projects/science_articles/Mesovortex_history',\n",
        " 'nbarnes/knowlab_real/wikipedia_projects/science_articles/Thymosin_history',\n",
        " 'nbarnes/knowlab_real/wikipedia_projects/science_articles/Augite_history',\n",
        " 'nbarnes/knowlab_real/wikipedia_projects/science_articles/Halite_history',\n",
        " 'nbarnes/knowlab_real/wikipedia_projects/science_articles/Clinical_trial_protocol_history',\n",
        " 'nbarnes/knowlab_real/wikipedia_projects/science_articles/Skeletal_system_history',\n",
        " 'nbarnes/knowlab_real/wikipedia_projects/science_articles/Income_history',\n",
        " 'nbarnes/knowlab_real/wikipedia_projects/science_articles/Frances_Meehan_Latterell_history',\n",
        " 'nbarnes/knowlab_real/wikipedia_projects/science_articles/Zosuquidar_trihydrochloride_history',\n",
        " 'nbarnes/knowlab_real/wikipedia_projects/science_articles/Rostrum_of_corpus_callosum_history',\n",
        " 'nbarnes/knowlab_real/wikipedia_projects/science_articles/Carrying_capacity_history',\n",
        " 'nbarnes/knowlab_real/wikipedia_projects/science_articles/Desmoid_tumor_history',\n",
        " 'nbarnes/knowlab_real/wikipedia_projects/science_articles/Maxillary_artery_history',\n",
        " 'nbarnes/knowlab_real/wikipedia_projects/science_articles/Hypophysial_artery__disambiguation__history',\n",
        " 'nbarnes/knowlab_real/wikipedia_projects/science_articles/List_of_education_articles_by_country_history',\n",
        " 'nbarnes/knowlab_real/wikipedia_projects/science_articles/Enzyme_history',\n",
        " 'nbarnes/knowlab_real/wikipedia_projects/science_articles/Working_class_history',\n",
        " 'nbarnes/knowlab_real/wikipedia_projects/science_articles/Leukemia_history',\n",
        " 'nbarnes/knowlab_real/wikipedia_projects/science_articles/Frequency_classification_of_plasmas_history',\n",
        " 'nbarnes/knowlab_real/wikipedia_projects/science_articles/Lurtotecan_history',\n",
        " 'nbarnes/knowlab_real/wikipedia_projects/science_articles/Aryepiglotticus_muscle_history',\n",
        " 'nbarnes/knowlab_real/wikipedia_projects/science_articles/Genitourinary_system_history',\n",
        " 'nbarnes/knowlab_real/wikipedia_projects/science_articles/Carnelian_history',\n",
        " 'nbarnes/knowlab_real/wikipedia_projects/science_articles/Angela_Merkel_history',\n",
        " 'nbarnes/knowlab_real/wikipedia_projects/science_articles/Bertha_Swirles_history',\n",
        " 'nbarnes/knowlab_real/wikipedia_projects/science_articles/Erythropoietin_receptor_history',\n",
        " 'nbarnes/knowlab_real/wikipedia_projects/science_articles/Medical_technology_history',\n",
        " 'nbarnes/knowlab_real/wikipedia_projects/science_articles/Karen_Kavanagh_history',\n",
        " 'nbarnes/knowlab_real/wikipedia_projects/science_articles/Echo__phenomenon__history',\n",
        " 'nbarnes/knowlab_real/wikipedia_projects/science_articles/Dendritic_cells_history',\n",
        " 'nbarnes/knowlab_real/wikipedia_projects/science_articles/Colony_history',\n",
        " 'nbarnes/knowlab_real/wikipedia_projects/science_articles/MAGPIE_history',\n",
        " 'nbarnes/knowlab_real/wikipedia_projects/science_articles/Lacrimal_bone_history',\n",
        " 'nbarnes/knowlab_real/wikipedia_projects/science_articles/Fluorouracil_history',\n",
        " 'nbarnes/knowlab_real/wikipedia_projects/science_articles/Anidulafungin_history',\n",
        " 'nbarnes/knowlab_real/wikipedia_projects/science_articles/Evershed_effect_history',\n",
        " 'nbarnes/knowlab_real/wikipedia_projects/science_articles/Copper_history',\n",
        " 'nbarnes/knowlab_real/wikipedia_projects/science_articles/Principal_focus_history',\n",
        " 'nbarnes/knowlab_real/wikipedia_projects/science_articles/Haematology_history',\n",
        " 'nbarnes/knowlab_real/wikipedia_projects/science_articles/National_Weather_Service_bulletin_for_New_Orleans_region_history',\n",
        " 'nbarnes/knowlab_real/wikipedia_projects/science_articles/Principles_of_Geology_history',\n",
        " 'nbarnes/knowlab_real/wikipedia_projects/science_articles/Linda_Keen_history',\n",
        " 'nbarnes/knowlab_real/wikipedia_projects/science_articles/Methyl_isocyanate_history',\n",
        " 'nbarnes/knowlab_real/wikipedia_projects/science_articles/Global_aphasia_history',\n",
        " 'nbarnes/knowlab_real/wikipedia_projects/science_articles/Trans_conformation__page_does_not_exist__history',\n",
        " 'nbarnes/knowlab_real/wikipedia_projects/science_articles/Laceration_history',\n",
        " 'nbarnes/knowlab_real/wikipedia_projects/science_articles/Medicine_history',\n",
        " 'nbarnes/knowlab_real/wikipedia_projects/science_articles/Distant_cancer__page_does_not_exist__history',\n",
        " 'nbarnes/knowlab_real/wikipedia_projects/science_articles/Cervical_spinal_nerves_history',\n",
        " 'nbarnes/knowlab_real/wikipedia_projects/science_articles/Audiology_history',\n",
        " 'nbarnes/knowlab_real/wikipedia_projects/science_articles/Bimodal_distribution_history',\n",
        " 'nbarnes/knowlab_real/wikipedia_projects/science_articles/Mossy_fiber_ending__disambiguation___page_does_not_exist__history',\n",
        " 'nbarnes/knowlab_real/wikipedia_projects/science_articles/Restriction_fragments_history',\n",
        " 'nbarnes/knowlab_real/wikipedia_projects/science_articles/Imidacloprid_history',\n",
        " 'nbarnes/knowlab_real/wikipedia_projects/science_articles/Persistent_truncus_arteriosus_history',\n",
        " 'nbarnes/knowlab_real/wikipedia_projects/science_articles/Sprengels_deformity_history',\n",
        " 'nbarnes/knowlab_real/wikipedia_projects/science_articles/Human_leg_history',\n",
        " 'nbarnes/knowlab_real/wikipedia_projects/science_articles/Palmar_plantar_erythrodysesthesia_history',\n",
        " 'nbarnes/knowlab_real/wikipedia_projects/science_articles/No-till_farming_history',\n",
        " 'nbarnes/knowlab_real/wikipedia_projects/science_articles/Rete_testis_history',\n",
        " 'nbarnes/knowlab_real/wikipedia_projects/science_articles/HACEK_organism_history',\n",
        " 'nbarnes/knowlab_real/wikipedia_projects/science_articles/Susan_Owicki_history',\n",
        " 'nbarnes/knowlab_real/wikipedia_projects/science_articles/Dental_cavities_history',\n",
        " 'nbarnes/knowlab_real/wikipedia_projects/science_articles/Shirley_M_Tilghman_history',\n",
        " 'nbarnes/knowlab_real/wikipedia_projects/science_articles/Human_T_cell_lymphotropic_virus_type_II_history',\n",
        " 'nbarnes/knowlab_real/wikipedia_projects/science_articles/Greater_palatine_canal_history',\n",
        " 'nbarnes/knowlab_real/wikipedia_projects/science_articles/Gluconeogenesis_history',\n",
        " 'nbarnes/knowlab_real/wikipedia_projects/science_articles/Front_yard_history',\n",
        " 'nbarnes/knowlab_real/wikipedia_projects/science_articles/Pamela_L_Gay_history',\n",
        " 'nbarnes/knowlab_real/wikipedia_projects/science_articles/Tentorial_incisure_history',\n",
        " 'nbarnes/knowlab_real/wikipedia_projects/science_articles/Pudendal_nerve_history',\n",
        " 'nbarnes/knowlab_real/wikipedia_projects/science_articles/Pedosphere_history',\n",
        " 'nbarnes/knowlab_real/wikipedia_projects/science_articles/Nina_Bari_history',\n",
        " 'nbarnes/knowlab_real/wikipedia_projects/science_articles/Hepatopancreatic_sphincter_history',\n",
        " 'nbarnes/knowlab_real/wikipedia_projects/science_articles/Acid-sensing_ion_channel_history',\n",
        " 'nbarnes/knowlab_real/wikipedia_projects/science_articles/Hepatectomy_history',\n",
        " 'nbarnes/knowlab_real/wikipedia_projects/science_articles/French_intensive_gardening_history',\n",
        " 'nbarnes/knowlab_real/wikipedia_projects/science_articles/Black-body_radiation_history',\n",
        " 'nbarnes/knowlab_real/wikipedia_projects/science_articles/Waveguide__acoustics__history',\n",
        " 'nbarnes/knowlab_real/wikipedia_projects/science_articles/Artturi_Ilmari_Virtanen_history',\n",
        " 'nbarnes/knowlab_real/wikipedia_projects/science_articles/Radiation_pressure_history',\n",
        " 'nbarnes/knowlab_real/wikipedia_projects/science_articles/Uncinate_process_of_ethmoid_bone_history',\n",
        " 'nbarnes/knowlab_real/wikipedia_projects/science_articles/Parturition_history',\n",
        " 'nbarnes/knowlab_real/wikipedia_projects/science_articles/Ring_current_history',\n",
        " 'nbarnes/knowlab_real/wikipedia_projects/science_articles/Plasma_physics_history',\n",
        " 'nbarnes/knowlab_real/wikipedia_projects/science_articles/Endocardium_history',\n",
        " 'nbarnes/knowlab_real/wikipedia_projects/science_articles/Merle_Greene_Robertson_history',\n",
        " 'nbarnes/knowlab_real/wikipedia_projects/science_articles/Multimeric_structure_history',\n",
        " 'nbarnes/knowlab_real/wikipedia_projects/science_articles/Group_4_element_history',\n",
        " 'nbarnes/knowlab_real/wikipedia_projects/science_articles/Menilite_history',\n",
        " 'nbarnes/knowlab_real/wikipedia_projects/science_articles/Ansa_cervicalis_history',\n",
        " 'nbarnes/knowlab_real/wikipedia_projects/science_articles/Obers_test_history',\n",
        " 'nbarnes/knowlab_real/wikipedia_projects/science_articles/Viral_oncogene_protein_history',\n",
        " 'nbarnes/knowlab_real/wikipedia_projects/science_articles/Material_physics_history',\n",
        " 'nbarnes/knowlab_real/wikipedia_projects/science_articles/Algaecide_history',\n",
        " 'nbarnes/knowlab_real/wikipedia_projects/science_articles/Neurophysins_history',\n",
        " 'nbarnes/knowlab_real/wikipedia_projects/science_articles/Self-awareness_history',\n",
        " 'nbarnes/knowlab_real/wikipedia_projects/science_articles/Antitumor_antibiotic_history',\n",
        " 'nbarnes/knowlab_real/wikipedia_projects/science_articles/F_Sherwood_Rowland_history',\n",
        " 'nbarnes/knowlab_real/wikipedia_projects/science_articles/Classism_history',\n",
        " 'nbarnes/knowlab_real/wikipedia_projects/science_articles/Wilhelm_Ostwald_history',\n",
        " 'nbarnes/knowlab_real/wikipedia_projects/science_articles/Atmospheric_physics_history',\n",
        " 'nbarnes/knowlab_real/wikipedia_projects/science_articles/Grace_Frankland_history',\n",
        " 'nbarnes/knowlab_real/wikipedia_projects/science_articles/Human_history',\n",
        " 'nbarnes/knowlab_real/wikipedia_projects/science_articles/Epithelial_reticular_cell_history',\n",
        " 'nbarnes/knowlab_real/wikipedia_projects/science_articles/Metafemale_history',\n",
        " 'nbarnes/knowlab_real/wikipedia_projects/science_articles/Megadosing_history',\n",
        " 'nbarnes/knowlab_real/wikipedia_projects/science_articles/Moral_psychology_history',\n",
        " 'nbarnes/knowlab_real/wikipedia_projects/science_articles/Guanosine_history',\n",
        " 'nbarnes/knowlab_real/wikipedia_projects/science_articles/R_factor_history',\n",
        " 'nbarnes/knowlab_real/wikipedia_projects/science_articles/Computational_physics_history',\n",
        " 'nbarnes/knowlab_real/wikipedia_projects/science_articles/Junctional_nevus_history',\n",
        " 'nbarnes/knowlab_real/wikipedia_projects/science_articles/Binge_drinking_history',\n",
        " 'nbarnes/knowlab_real/wikipedia_projects/science_articles/Vestibulospinal_tract_history',\n",
        " 'nbarnes/knowlab_real/wikipedia_projects/science_articles/Eustasy_history',\n",
        " 'nbarnes/knowlab_real/wikipedia_projects/science_articles/Landlocked_developing_countries_history',\n",
        " 'nbarnes/knowlab_real/wikipedia_projects/science_articles/Chromosomal_deletion_history',\n",
        " 'nbarnes/knowlab_real/wikipedia_projects/science_articles/Balloon__aircraft__history',\n",
        " 'nbarnes/knowlab_real/wikipedia_projects/science_articles/Sociology_of_deviance_history',\n",
        " 'nbarnes/knowlab_real/wikipedia_projects/science_articles/Intervertebral_disc_history',\n",
        " 'nbarnes/knowlab_real/wikipedia_projects/science_articles/CD4_antigen_history',\n",
        " 'nbarnes/knowlab_real/wikipedia_projects/science_articles/Gluteus_maximus_history',\n",
        " 'nbarnes/knowlab_real/wikipedia_projects/science_articles/Mucoperiosteum_history',\n",
        " 'nbarnes/knowlab_real/wikipedia_projects/science_articles/Chromosome_walking_history',\n",
        " 'nbarnes/knowlab_real/wikipedia_projects/science_articles/Social_entropy_history',\n",
        " 'nbarnes/knowlab_real/wikipedia_projects/science_articles/Noemie_Benczer_Koller_history',\n",
        " 'nbarnes/knowlab_real/wikipedia_projects/science_articles/KCNG3_history',\n",
        " 'nbarnes/knowlab_real/wikipedia_projects/science_articles/Culture_shock_history',\n",
        " 'nbarnes/knowlab_real/wikipedia_projects/science_articles/Marimastat_history',\n",
        " 'nbarnes/knowlab_real/wikipedia_projects/science_articles/List_of_psychological_research_methods_history',\n",
        " 'nbarnes/knowlab_real/wikipedia_projects/science_articles/Vortex_history',\n",
        " 'nbarnes/knowlab_real/wikipedia_projects/science_articles/Forms_of_energy_history',\n",
        " 'nbarnes/knowlab_real/wikipedia_projects/science_articles/Process__anatomy__history',\n",
        " 'nbarnes/knowlab_real/wikipedia_projects/science_articles/Oedipus_complex_history',\n",
        " 'nbarnes/knowlab_real/wikipedia_projects/science_articles/Radioactive_contamination_history',\n",
        " 'nbarnes/knowlab_real/wikipedia_projects/science_articles/United_States_Senate_Agriculture_Subcommittee_on_Research,_Nutrition,_and_General_Legislation_history',\n",
        " 'nbarnes/knowlab_real/wikipedia_projects/science_articles/Antibiotic_resistance_history',\n",
        " 'nbarnes/knowlab_real/wikipedia_projects/science_articles/Orthomolecular_medicine_history',\n",
        " 'nbarnes/knowlab_real/wikipedia_projects/science_articles/Cranial_nerve_lesion__page_does_not_exist__history',\n",
        " 'nbarnes/knowlab_real/wikipedia_projects/science_articles/Distraction_osteogenesis_history',\n",
        " 'nbarnes/knowlab_real/wikipedia_projects/science_articles/Defensin_history',\n",
        " 'nbarnes/knowlab_real/wikipedia_projects/science_articles/Recessive_phenotype__page_does_not_exist__history',\n",
        " 'nbarnes/knowlab_real/wikipedia_projects/science_articles/Nucleoli_history',\n",
        " 'nbarnes/knowlab_real/wikipedia_projects/science_articles/List_of_female_mathematicians_history',\n",
        " 'nbarnes/knowlab_real/wikipedia_projects/science_articles/Rain_sensor_history',\n",
        " 'nbarnes/knowlab_real/wikipedia_projects/science_articles/Cricoarytenoid_ligament_history',\n",
        " 'nbarnes/knowlab_real/wikipedia_projects/science_articles/Glossary_of_wildfire_terms_history',\n",
        " 'nbarnes/knowlab_real/wikipedia_projects/science_articles/Semustine_history',\n",
        " 'nbarnes/knowlab_real/wikipedia_projects/science_articles/Autism_Diagnostic_Observation_Schedule_history',\n",
        " 'nbarnes/knowlab_real/wikipedia_projects/science_articles/Marital_therapy_history',\n",
        " 'nbarnes/knowlab_real/wikipedia_projects/science_articles/Plea_bargain_history',\n",
        " 'nbarnes/knowlab_real/wikipedia_projects/science_articles/Xia_Li_history',\n",
        " 'nbarnes/knowlab_real/wikipedia_projects/science_articles/Variable_Specific_Impulse_Magnetoplasma_Rocket_history',\n",
        " 'nbarnes/knowlab_real/wikipedia_projects/science_articles/Orographic_lift_history',\n",
        " 'nbarnes/knowlab_real/wikipedia_projects/science_articles/Wave_motor_history',\n",
        " 'nbarnes/knowlab_real/wikipedia_projects/science_articles/Geologic_period_history',\n",
        " 'nbarnes/knowlab_real/wikipedia_projects/science_articles/Solar_radiation_storm_level_history',\n",
        " 'nbarnes/knowlab_real/wikipedia_projects/science_articles/Brief_reactive_psychosis_history',\n",
        " 'nbarnes/knowlab_real/wikipedia_projects/science_articles/Interdigitation__page_does_not_exist__history',\n",
        " 'nbarnes/knowlab_real/wikipedia_projects/science_articles/Dry_season_history',\n",
        " 'nbarnes/knowlab_real/wikipedia_projects/science_articles/Geophysics_history',\n",
        " 'nbarnes/knowlab_real/wikipedia_projects/science_articles/Endometrial_history',\n",
        " 'nbarnes/knowlab_real/wikipedia_projects/science_articles/Emission_spectrum_history',\n",
        " 'nbarnes/knowlab_real/wikipedia_projects/science_articles/Weibel_instability_history',\n",
        " 'nbarnes/knowlab_real/wikipedia_projects/science_articles/Group_dynamics_history',\n",
        " 'nbarnes/knowlab_real/wikipedia_projects/science_articles/Aglaonike_history',\n",
        " 'nbarnes/knowlab_real/wikipedia_projects/science_articles/Niobium_history',\n",
        " 'nbarnes/knowlab_real/wikipedia_projects/science_articles/Aqueous_humor_history',\n",
        " 'nbarnes/knowlab_real/wikipedia_projects/science_articles/B_lymphocyte_history',\n",
        " 'nbarnes/knowlab_real/wikipedia_projects/science_articles/Shotgun_method_history',\n",
        " 'nbarnes/knowlab_real/wikipedia_projects/science_articles/Uncinate_process_of_vertebra_history',\n",
        " 'nbarnes/knowlab_real/wikipedia_projects/science_articles/Pars_tensa_history',\n",
        " 'nbarnes/knowlab_real/wikipedia_projects/science_articles/Lonafarnib_history',\n",
        " 'nbarnes/knowlab_real/wikipedia_projects/science_articles/Genetic_counseling_history',\n",
        " 'nbarnes/knowlab_real/wikipedia_projects/science_articles/Optical_path_history',\n",
        " 'nbarnes/knowlab_real/wikipedia_projects/science_articles/Dissociation__psychology__history',\n",
        " 'nbarnes/knowlab_real/wikipedia_projects/science_articles/Electric_arc_furnace_history',\n",
        " 'nbarnes/knowlab_real/wikipedia_projects/science_articles/Energy_level_history',\n",
        " 'nbarnes/knowlab_real/wikipedia_projects/science_articles/Mildred_Dresselhaus_history',\n",
        " 'nbarnes/knowlab_real/wikipedia_projects/science_articles/Melvin_Calvin_history',\n",
        " 'nbarnes/knowlab_real/wikipedia_projects/science_articles/Aminoglycoside_antibiotic_history',\n",
        " 'nbarnes/knowlab_real/wikipedia_projects/science_articles/Lasing_threshold_history',\n",
        " 'nbarnes/knowlab_real/wikipedia_projects/science_articles/Antarctic_Circumpolar_Wave_history',\n",
        " 'nbarnes/knowlab_real/wikipedia_projects/science_articles/Substantia_nigra_history',\n",
        " 'nbarnes/knowlab_real/wikipedia_projects/science_articles/Medial_lemniscus_history',\n",
        " 'nbarnes/knowlab_real/wikipedia_projects/science_articles/Fetishism_history',\n",
        " 'nbarnes/knowlab_real/wikipedia_projects/science_articles/Schenck_classification_history',\n",
        " 'nbarnes/knowlab_real/wikipedia_projects/science_articles/Food_technology_history',\n",
        " 'nbarnes/knowlab_real/wikipedia_projects/science_articles/Atmospheric_dynamo_history',\n",
        " 'nbarnes/knowlab_real/wikipedia_projects/science_articles/Energy_transformation_history',\n",
        " 'nbarnes/knowlab_real/wikipedia_projects/science_articles/Hematologic_malignancy_history',\n",
        " 'nbarnes/knowlab_real/wikipedia_projects/science_articles/Psycholinguistics_history',\n",
        " 'nbarnes/knowlab_real/wikipedia_projects/science_articles/Mesenteric_membrane__page_does_not_exist__history',\n",
        " 'nbarnes/knowlab_real/wikipedia_projects/science_articles/Scapular_fracture_history',\n",
        " 'nbarnes/knowlab_real/wikipedia_projects/science_articles/Transsexual_history',\n",
        " 'nbarnes/knowlab_real/wikipedia_projects/science_articles/Intralesional__page_does_not_exist__history',\n",
        " 'nbarnes/knowlab_real/wikipedia_projects/science_articles/Methylene__compound__history',\n",
        " 'nbarnes/knowlab_real/wikipedia_projects/science_articles/Ostomy_history',\n",
        " 'nbarnes/knowlab_real/wikipedia_projects/science_articles/Energy_density_history',\n",
        " 'nbarnes/knowlab_real/wikipedia_projects/science_articles/Bacillus_thuringiensis_israelensis_history',\n",
        " 'nbarnes/knowlab_real/wikipedia_projects/science_articles/Styloglossus_muscle_history',\n",
        " 'nbarnes/knowlab_real/wikipedia_projects/science_articles/Vascular_cambium_history',\n",
        " 'nbarnes/knowlab_real/wikipedia_projects/science_articles/Lectin_history',\n",
        " 'nbarnes/knowlab_real/wikipedia_projects/science_articles/Lamivudine_history',\n",
        " 'nbarnes/knowlab_real/wikipedia_projects/science_articles/Gibbsite_history',\n",
        " 'nbarnes/knowlab_real/wikipedia_projects/science_articles/Interleukin_2_history',\n",
        " 'nbarnes/knowlab_real/wikipedia_projects/science_articles/Meatus_history',\n",
        " 'nbarnes/knowlab_real/wikipedia_projects/science_articles/Zakharov_system_history',\n",
        " 'nbarnes/knowlab_real/wikipedia_projects/science_articles/Chloramphenicol_acetyltransferase_history',\n",
        " 'nbarnes/knowlab_real/wikipedia_projects/science_articles/Historical_linguistics_history',\n",
        " 'nbarnes/knowlab_real/wikipedia_projects/science_articles/Paralysis_history',\n",
        " 'nbarnes/knowlab_real/wikipedia_projects/science_articles/Protomer_history',\n",
        " 'nbarnes/knowlab_real/wikipedia_projects/science_articles/Brachial_plexus_history',\n",
        " 'nbarnes/knowlab_real/wikipedia_projects/science_articles/Contradiction_history',\n",
        " 'nbarnes/knowlab_real/wikipedia_projects/science_articles/Radioteletype_history',\n",
        " 'nbarnes/knowlab_real/wikipedia_projects/science_articles/Inferior_mesenteric_artery_history',\n",
        " 'nbarnes/knowlab_real/wikipedia_projects/science_articles/Criminology_history',\n",
        " 'nbarnes/knowlab_real/wikipedia_projects/science_articles/Ovarian_epithelial_cancer_history',\n",
        " 'nbarnes/knowlab_real/wikipedia_projects/science_articles/Individual_differences_psychology_history',\n",
        " 'nbarnes/knowlab_real/wikipedia_projects/science_articles/Risorius_history',\n",
        " 'nbarnes/knowlab_real/wikipedia_projects/science_articles/Chemical_vapor_deposition_of_diamond_history',\n",
        " 'nbarnes/knowlab_real/wikipedia_projects/science_articles/Viral_culture_history',\n",
        " 'nbarnes/knowlab_real/wikipedia_projects/science_articles/Anisothermal_plasma_history',\n",
        " 'nbarnes/knowlab_real/wikipedia_projects/science_articles/Screening_mammogram_history',\n",
        " 'nbarnes/knowlab_real/wikipedia_projects/science_articles/Diorite_history',\n",
        " 'nbarnes/knowlab_real/wikipedia_projects/science_articles/RRNA_history',\n",
        " 'nbarnes/knowlab_real/wikipedia_projects/science_articles/Preemptor_stem__page_does_not_exist__history',\n",
        " 'nbarnes/knowlab_real/wikipedia_projects/science_articles/Spinal_fracture_history',\n",
        " 'nbarnes/knowlab_real/wikipedia_projects/science_articles/Monoclonal_antibody_history',\n",
        " 'nbarnes/knowlab_real/wikipedia_projects/science_articles/Mental_hygiene_history',\n",
        " 'nbarnes/knowlab_real/wikipedia_projects/science_articles/RevM10_gene__page_does_not_exist__history',\n",
        " 'nbarnes/knowlab_real/wikipedia_projects/science_articles/Youth_history',\n",
        " 'nbarnes/knowlab_real/wikipedia_projects/science_articles/Doxorubicin_history',\n",
        " 'nbarnes/knowlab_real/wikipedia_projects/science_articles/Mary_Whiton_Calkins_history',\n",
        " 'nbarnes/knowlab_real/wikipedia_projects/science_articles/Glycoprotein_history',\n",
        " 'nbarnes/knowlab_real/wikipedia_projects/science_articles/Solar_photonics_history',\n",
        " 'nbarnes/knowlab_real/wikipedia_projects/science_articles/Amatory_anatomy_history',\n",
        " 'nbarnes/knowlab_real/wikipedia_projects/science_articles/Anaplastic_large_cell_lymphoma_history',\n",
        " 'nbarnes/knowlab_real/wikipedia_projects/science_articles/Codon_history',\n",
        " 'nbarnes/knowlab_real/wikipedia_projects/science_articles/Semitendinosus_history',\n",
        " 'nbarnes/knowlab_real/wikipedia_projects/science_articles/Paracentesis_history',\n",
        " 'nbarnes/knowlab_real/wikipedia_projects/science_articles/Biomolecule_history',\n",
        " 'nbarnes/knowlab_real/wikipedia_projects/science_articles/Golgi_apparatus_history',\n",
        " 'nbarnes/knowlab_real/wikipedia_projects/science_articles/Postvention_history',\n",
        " 'nbarnes/knowlab_real/wikipedia_projects/science_articles/Era__geology__history',\n",
        " 'nbarnes/knowlab_real/wikipedia_projects/science_articles/Embodied_energy_history',\n",
        " 'nbarnes/knowlab_real/wikipedia_projects/science_articles/KCNE2_history',\n",
        " 'nbarnes/knowlab_real/wikipedia_projects/science_articles/Profanity_history',\n",
        " 'nbarnes/knowlab_real/wikipedia_projects/science_articles/Margaret_Cavendish,_Duchess_of_Newcastle-upon-Tyne_history',\n",
        " ...]"
       ]
      }
     ],
     "prompt_number": 7
    },
    {
     "cell_type": "code",
     "collapsed": false,
     "input": [
      "lib_small.items()[-1][0]"
     ],
     "language": "python",
     "metadata": {},
     "outputs": [
      {
       "metadata": {},
       "output_type": "pyout",
       "prompt_number": 10,
       "text": [
        "'nbarnes/knowlab_real/wikipedia_projects/liberal_articles/Niilo_Koponen_history'"
       ]
      }
     ],
     "prompt_number": 10
    },
    {
     "cell_type": "code",
     "collapsed": false,
     "input": [
      "lib = load_csv(\"../processed_data/liberal_editors.txt\")\n",
      "cons = load_csv(\"../processed_data/conservative_editors_full.txt\")\n",
      "science = load_csv(\"../processed_data/science_editors.txt\")"
     ],
     "language": "python",
     "metadata": {},
     "outputs": [],
     "prompt_number": 53
    },
    {
     "cell_type": "code",
     "collapsed": false,
     "input": [
      "bots = load_bots('../all_bots.txt')"
     ],
     "language": "python",
     "metadata": {},
     "outputs": [],
     "prompt_number": 11
    },
    {
     "cell_type": "code",
     "collapsed": false,
     "input": [
      "def strip_bots(group_dict):\n",
      "    total = 0\n",
      "    b = 0\n",
      "    for key in group_dict.keys():\n",
      "        for editor in group_dict[key]:\n",
      "            total = total + 1\n",
      "            if editor in bots:\n",
      "                b = b + 1\n",
      "                group_dict[key].remove(editor)\n",
      "    print float(b)/total\n",
      "    return group_dict\n",
      "\n",
      "def strip_ips(group_dict):\n",
      "    total = 0\n",
      "    b = 0\n",
      "    for key in group_dict.keys():\n",
      "        for editor in group_dict[key]:\n",
      "            total = total + 1\n",
      "            aa=re.match(r\"^\\d{1,3}\\.\\d{1,3}\\.\\d{1,3}\\.\\d{1,3}$\",editor)\n",
      "            if aa or (editor.count(':') >= 5) or (editor[-4:] == '.xxx'):\n",
      "                b = b + 1\n",
      "                group_dict[key].remove(editor)\n",
      "    print float(b)/total\n",
      "    return group_dict\n",
      "\n",
      "def strip_active(group_dict):\n",
      "    total = 0\n",
      "    b = 0\n",
      "    for key in group_dict.keys():\n",
      "        for editor in group_dict[key]:\n",
      "            total = total + 1\n",
      "            if editor in active:\n",
      "                b = b + 1\n",
      "                group_dict[key].remove(editor)\n",
      "    print float(b)/total\n",
      "    return group_dict  "
     ],
     "language": "python",
     "metadata": {},
     "outputs": [],
     "prompt_number": 54
    },
    {
     "cell_type": "code",
     "collapsed": false,
     "input": [
      "cons = strip_active(cons)\n",
      "cons = strip_active(cons)\n",
      "cons = strip_active(cons)\n",
      "cons = strip_active(cons)\n",
      "\n",
      "science = strip_active(science)\n",
      "science = strip_active(science)\n",
      "science = strip_active(science)\n",
      "science = strip_active(science)"
     ],
     "language": "python",
     "metadata": {},
     "outputs": [
      {
       "output_type": "stream",
       "stream": "stdout",
       "text": [
        "0.0544158782673\n",
        "0.00624159916001"
       ]
      },
      {
       "output_type": "stream",
       "stream": "stdout",
       "text": [
        "\n",
        "0.000147779458407"
       ]
      },
      {
       "output_type": "stream",
       "stream": "stdout",
       "text": [
        "\n",
        "0.0"
       ]
      },
      {
       "output_type": "stream",
       "stream": "stdout",
       "text": [
        "\n",
        "0.0228164690765"
       ]
      },
      {
       "output_type": "stream",
       "stream": "stdout",
       "text": [
        "\n",
        "0.000785245772765"
       ]
      },
      {
       "output_type": "stream",
       "stream": "stdout",
       "text": [
        "\n",
        "2.06879817898e-06"
       ]
      },
      {
       "output_type": "stream",
       "stream": "stdout",
       "text": [
        "\n",
        "0.0"
       ]
      },
      {
       "output_type": "stream",
       "stream": "stdout",
       "text": [
        "\n"
       ]
      }
     ],
     "prompt_number": 59
    },
    {
     "cell_type": "code",
     "collapsed": false,
     "input": [
      "lib = strip_bots(lib)\n",
      "lib = strip_bots(lib)\n",
      "lib = strip_bots(lib)\n",
      "lib = strip_bots(lib)\n",
      "\n",
      "cons = strip_bots(cons)\n",
      "cons = strip_bots(cons)\n",
      "cons = strip_bots(cons)\n",
      "cons = strip_bots(cons)\n",
      "\n",
      "science = strip_bots(science)\n",
      "science = strip_bots(science)\n",
      "science = strip_bots(science)\n",
      "science = strip_bots(science)"
     ],
     "language": "python",
     "metadata": {},
     "outputs": [
      {
       "output_type": "stream",
       "stream": "stdout",
       "text": [
        "0.077120036513\n",
        "0.00920613454788"
       ]
      },
      {
       "output_type": "stream",
       "stream": "stdout",
       "text": [
        "\n",
        "0.000158786684734"
       ]
      },
      {
       "output_type": "stream",
       "stream": "stdout",
       "text": [
        "\n",
        "0.0"
       ]
      },
      {
       "output_type": "stream",
       "stream": "stdout",
       "text": [
        "\n",
        "0.0710002678555"
       ]
      },
      {
       "output_type": "stream",
       "stream": "stdout",
       "text": [
        "\n",
        "0.0075539790005"
       ]
      },
      {
       "output_type": "stream",
       "stream": "stdout",
       "text": [
        "\n",
        "9.5175155799e-05"
       ]
      },
      {
       "output_type": "stream",
       "stream": "stdout",
       "text": [
        "\n",
        "0.0"
       ]
      },
      {
       "output_type": "stream",
       "stream": "stdout",
       "text": [
        "\n",
        "0.057449199217"
       ]
      },
      {
       "output_type": "stream",
       "stream": "stdout",
       "text": [
        "\n",
        "0.00557500617455"
       ]
      },
      {
       "output_type": "stream",
       "stream": "stdout",
       "text": [
        "\n",
        "0.000121951679476"
       ]
      },
      {
       "output_type": "stream",
       "stream": "stdout",
       "text": [
        "\n",
        "0.0"
       ]
      },
      {
       "output_type": "stream",
       "stream": "stdout",
       "text": [
        "\n"
       ]
      }
     ],
     "prompt_number": 60
    },
    {
     "cell_type": "code",
     "collapsed": false,
     "input": [
      "lib = strip_ips(lib)\n",
      "lib = strip_ips(lib)\n",
      "lib = strip_ips(lib)\n",
      "lib = strip_ips(lib)\n",
      "lib = strip_ips(lib)\n",
      "lib = strip_ips(lib)\n",
      "\n",
      "cons = strip_ips(cons)\n",
      "cons = strip_ips(cons)\n",
      "cons = strip_ips(cons)\n",
      "cons = strip_ips(cons)\n",
      "cons = strip_ips(cons)\n",
      "cons = strip_ips(cons)\n",
      "\n",
      "science = strip_ips(science)\n",
      "science = strip_ips(science)\n",
      "science = strip_ips(science)\n",
      "science = strip_ips(science)\n",
      "science = strip_ips(science)\n",
      "science = strip_ips(science)"
     ],
     "language": "python",
     "metadata": {},
     "outputs": [
      {
       "output_type": "stream",
       "stream": "stdout",
       "text": [
        "0.414079899777\n",
        "0.182892019215"
       ]
      },
      {
       "output_type": "stream",
       "stream": "stdout",
       "text": [
        "\n",
        "0.0448628225147"
       ]
      },
      {
       "output_type": "stream",
       "stream": "stdout",
       "text": [
        "\n",
        "0.0038832006889"
       ]
      },
      {
       "output_type": "stream",
       "stream": "stdout",
       "text": [
        "\n",
        "6.77040736187e-05"
       ]
      },
      {
       "output_type": "stream",
       "stream": "stdout",
       "text": [
        "\n",
        "0.0"
       ]
      },
      {
       "output_type": "stream",
       "stream": "stdout",
       "text": [
        "\n",
        "0.4127120261"
       ]
      },
      {
       "output_type": "stream",
       "stream": "stdout",
       "text": [
        "\n",
        "0.180341609076"
       ]
      },
      {
       "output_type": "stream",
       "stream": "stdout",
       "text": [
        "\n",
        "0.0413973408395"
       ]
      },
      {
       "output_type": "stream",
       "stream": "stdout",
       "text": [
        "\n",
        "0.00339323924558"
       ]
      },
      {
       "output_type": "stream",
       "stream": "stdout",
       "text": [
        "\n",
        "5.14511564817e-05"
       ]
      },
      {
       "output_type": "stream",
       "stream": "stdout",
       "text": [
        "\n",
        "0.0"
       ]
      },
      {
       "output_type": "stream",
       "stream": "stdout",
       "text": [
        "\n",
        "0.519899049377"
       ]
      },
      {
       "output_type": "stream",
       "stream": "stdout",
       "text": [
        "\n",
        "0.272709423447"
       ]
      },
      {
       "output_type": "stream",
       "stream": "stdout",
       "text": [
        "\n",
        "0.0809070894806"
       ]
      },
      {
       "output_type": "stream",
       "stream": "stdout",
       "text": [
        "\n",
        "0.00863183635668"
       ]
      },
      {
       "output_type": "stream",
       "stream": "stdout",
       "text": [
        "\n",
        "0.000136687076834"
       ]
      },
      {
       "output_type": "stream",
       "stream": "stdout",
       "text": [
        "\n",
        "0.0"
       ]
      },
      {
       "output_type": "stream",
       "stream": "stdout",
       "text": [
        "\n"
       ]
      }
     ],
     "prompt_number": 61
    },
    {
     "cell_type": "code",
     "collapsed": false,
     "input": [
      "def strip_smackbot(group_dict):\n",
      "    total = 0\n",
      "    b = 0\n",
      "    for key in group_dict.keys():\n",
      "        for editor in group_dict[key]:\n",
      "            total = total + 1\n",
      "            if editor == 'SmackBot':\n",
      "                b = b + 1\n",
      "                group_dict[key].remove(editor)\n",
      "            elif editor == '':\n",
      "                b = b + 1\n",
      "                group_dict[key].remove(editor)\n",
      "    print float(b)/total\n",
      "    return group_dict"
     ],
     "language": "python",
     "metadata": {},
     "outputs": [],
     "prompt_number": 62
    },
    {
     "cell_type": "code",
     "collapsed": false,
     "input": [
      "lib = strip_smackbot(lib)\n",
      "\n",
      "cons = strip_smackbot(cons)\n",
      "\n",
      "science = strip_smackbot(science)"
     ],
     "language": "python",
     "metadata": {},
     "outputs": [
      {
       "output_type": "stream",
       "stream": "stdout",
       "text": [
        "0.0\n",
        "0.0"
       ]
      },
      {
       "output_type": "stream",
       "stream": "stdout",
       "text": [
        "\n",
        "0.0"
       ]
      },
      {
       "output_type": "stream",
       "stream": "stdout",
       "text": [
        "\n"
       ]
      }
     ],
     "prompt_number": 64
    },
    {
     "cell_type": "code",
     "collapsed": false,
     "input": [
      "def make_net_dict():\n",
      "    ret = {}\n",
      "    for key in lib.keys():\n",
      "        ret[key] = ['liberal', lib[key]]\n",
      "    for key in cons.keys():\n",
      "        k = key[62:-8]\n",
      "        ret[k] = ['conservative', cons[key]]\n",
      "    for key in science.keys():\n",
      "        k = key[57:-8]\n",
      "        ret[k] = ['science', science[key]]\n",
      "    return ret\n",
      "\n",
      "full = make_net_dict()\n",
      "len(full)"
     ],
     "language": "python",
     "metadata": {},
     "outputs": [
      {
       "metadata": {},
       "output_type": "pyout",
       "prompt_number": 65,
       "text": [
        "39336"
       ]
      }
     ],
     "prompt_number": 65
    },
    {
     "cell_type": "code",
     "collapsed": false,
     "input": [
      "out = open(\"../processed_data/cleaned_editors_wo_active.txt\", 'wb')\n",
      "wb = csv.writer(out)\n",
      "for key in full.keys():\n",
      "    wb.writerow([key, full[key][0]] + full[key][1])\n",
      "out.close()"
     ],
     "language": "python",
     "metadata": {},
     "outputs": [],
     "prompt_number": 66
    },
    {
     "cell_type": "code",
     "collapsed": false,
     "input": [
      "def load_clean(filename):\n",
      "    soups = {}\n",
      "    fil = open(filename, 'rb')\n",
      "    reader = csv.reader(fil, delimiter=',')\n",
      "    for row in reader:\n",
      "        soups[row[0]] = [row[1], row[2:]]\n",
      "    return soups\n",
      "\n",
      "full = load_clean('../processed_data/cleaned_editors_small.txt')"
     ],
     "language": "python",
     "metadata": {},
     "outputs": []
    },
    {
     "cell_type": "code",
     "collapsed": false,
     "input": [
      "liberal_list = []\n",
      "conservative_list = []\n",
      "science_list = []\n",
      "for key in full.keys():\n",
      "    if full[key][0] == 'liberal':\n",
      "        liberal_list.extend(full[key][1])\n",
      "    elif full[key][0] == 'conservative':\n",
      "        conservative_list.extend(full[key][1])\n",
      "    elif full[key][0] == 'science':\n",
      "        science_list.extend(full[key][1])"
     ],
     "language": "python",
     "metadata": {},
     "outputs": [],
     "prompt_number": 21
    },
    {
     "cell_type": "code",
     "collapsed": false,
     "input": [
      "len(set(liberal_list).intersection(set(conservative_list)))"
     ],
     "language": "python",
     "metadata": {},
     "outputs": [
      {
       "metadata": {},
       "output_type": "pyout",
       "prompt_number": 22,
       "text": [
        "21389"
       ]
      }
     ],
     "prompt_number": 22
    },
    {
     "cell_type": "code",
     "collapsed": false,
     "input": [
      "len(set(liberal_list).union(set(conservative_list)))"
     ],
     "language": "python",
     "metadata": {},
     "outputs": [
      {
       "metadata": {},
       "output_type": "pyout",
       "prompt_number": 23,
       "text": [
        "92409"
       ]
      }
     ],
     "prompt_number": 23
    },
    {
     "cell_type": "code",
     "collapsed": false,
     "input": [
      "float(21389)/92409"
     ],
     "language": "python",
     "metadata": {},
     "outputs": [
      {
       "metadata": {},
       "output_type": "pyout",
       "prompt_number": 24,
       "text": [
        "0.23146013916393424"
       ]
      }
     ],
     "prompt_number": 24
    },
    {
     "cell_type": "code",
     "collapsed": false,
     "input": [
      "len(set(science_list).intersection(set(liberal_list).union(set(conservative_list))))"
     ],
     "language": "python",
     "metadata": {},
     "outputs": [
      {
       "metadata": {},
       "output_type": "pyout",
       "prompt_number": 25,
       "text": [
        "26506"
       ]
      }
     ],
     "prompt_number": 25
    },
    {
     "cell_type": "code",
     "collapsed": false,
     "input": [
      "len(set(science_list))"
     ],
     "language": "python",
     "metadata": {},
     "outputs": [
      {
       "metadata": {},
       "output_type": "pyout",
       "prompt_number": 26,
       "text": [
        "197253"
       ]
      }
     ],
     "prompt_number": 26
    },
    {
     "cell_type": "code",
     "collapsed": false,
     "input": [
      "float(26506)/197253"
     ],
     "language": "python",
     "metadata": {},
     "outputs": [
      {
       "metadata": {},
       "output_type": "pyout",
       "prompt_number": 27,
       "text": [
        "0.13437564954652148"
       ]
      }
     ],
     "prompt_number": 27
    },
    {
     "cell_type": "code",
     "collapsed": false,
     "input": [
      "d2 = 0\n",
      "t2 = 0\n",
      "both = set(liberal_list).intersection(set((conservative_list)))\n",
      "for key in full.keys():\n",
      "    if full[key][0] in ['liberal', 'conservative']:\n",
      "        t2 = t2 + 1\n",
      "        local = 0\n",
      "        for editor in full[key][1]:\n",
      "            if editor in both:\n",
      "                local = local + 1\n",
      "        if local:\n",
      "            d2 = d2 + 1\n",
      "\n",
      "print d2\n",
      "print t2\n",
      "print float(d2)/t2"
     ],
     "language": "python",
     "metadata": {},
     "outputs": [
      {
       "output_type": "stream",
       "stream": "stdout",
       "text": [
        "21473\n",
        "21562\n",
        "0.995872368055\n"
       ]
      }
     ],
     "prompt_number": 31
    },
    {
     "cell_type": "code",
     "collapsed": false,
     "input": [
      "d3 = 0\n",
      "t3 = 0\n",
      "political = set(liberal_list).union(set(conservative_list))\n",
      "poli_sci = political.intersection(set(science_list))\n",
      "for key in full.keys():\n",
      "    if full[key][0] in ['science']:\n",
      "        t3 = t3 + 1\n",
      "        local = 0\n",
      "        for editor in full[key][1]:\n",
      "            if editor in poli_sci:\n",
      "                local = local + 1\n",
      "        if local:\n",
      "            d3 = d3 + 1\n",
      "                \n",
      "                \n",
      "\n",
      "print d3\n",
      "print t3\n",
      "print float(d3)/t3"
     ],
     "language": "python",
     "metadata": {},
     "outputs": [
      {
       "output_type": "stream",
       "stream": "stdout",
       "text": [
        "13375\n",
        "17779\n",
        "0.752292029923\n"
       ]
      }
     ],
     "prompt_number": 32
    },
    {
     "cell_type": "code",
     "collapsed": false,
     "input": [
      "len(full)"
     ],
     "language": "python",
     "metadata": {},
     "outputs": [
      {
       "metadata": {},
       "output_type": "pyout",
       "prompt_number": 33,
       "text": [
        "39341"
       ]
      }
     ],
     "prompt_number": 33
    },
    {
     "cell_type": "code",
     "collapsed": false,
     "input": [
      "s = random.sample(full.items(), 3934)\n",
      "small = {}\n",
      "for i in s:\n",
      "    small[i[0]] = i[1]"
     ],
     "language": "python",
     "metadata": {},
     "outputs": [],
     "prompt_number": 67
    },
    {
     "cell_type": "code",
     "collapsed": false,
     "input": [
      "out = open(\"../processed_data/cleaned_editors_small_wo_active.txt\", 'wb')\n",
      "wb = csv.writer(out)\n",
      "for key in small.keys():\n",
      "    wb.writerow([key, small[key][0]] + small[key][1])\n",
      "out.close()"
     ],
     "language": "python",
     "metadata": {},
     "outputs": [],
     "prompt_number": 68
    },
    {
     "cell_type": "code",
     "collapsed": false,
     "input": [
      "def load_sci(filename):\n",
      "    soups = {}\n",
      "    cats = []\n",
      "    fil = open(filename, 'rb')\n",
      "    reader = csv.reader(fil, delimiter=',')\n",
      "    for row in reader:\n",
      "        soups[row[0]] = row[1]\n",
      "        cats.append(row[1])\n",
      "    return soups, cats\n",
      "\n",
      "sci, cats = load_sci('../science_by_category.csv')"
     ],
     "language": "python",
     "metadata": {},
     "outputs": [],
     "prompt_number": 69
    },
    {
     "cell_type": "code",
     "collapsed": false,
     "input": [
      "sci['Okumura Model']"
     ],
     "language": "python",
     "metadata": {},
     "outputs": [
      {
       "metadata": {},
       "output_type": "pyout",
       "prompt_number": 76,
       "text": [
        "'radio propagation'"
       ]
      }
     ],
     "prompt_number": 76
    },
    {
     "cell_type": "code",
     "collapsed": false,
     "input": [
      "radio = [x for x in sci.keys() if sci[x] == 'optics']"
     ],
     "language": "python",
     "metadata": {},
     "outputs": [],
     "prompt_number": 80
    },
    {
     "cell_type": "code",
     "collapsed": false,
     "input": [
      "len(radio)"
     ],
     "language": "python",
     "metadata": {},
     "outputs": [
      {
       "metadata": {},
       "output_type": "pyout",
       "prompt_number": 81,
       "text": [
        "302"
       ]
      }
     ],
     "prompt_number": 81
    },
    {
     "cell_type": "code",
     "collapsed": false,
     "input": [
      "set(cats)"
     ],
     "language": "python",
     "metadata": {},
     "outputs": [
      {
       "metadata": {},
       "output_type": "pyout",
       "prompt_number": 75,
       "text": [
        "{'HIV/AIDS-related',\n",
        " 'List of plasma (physics)',\n",
        " 'List of plate tectonics topics',\n",
        " 'agriculture',\n",
        " 'anatomy',\n",
        " 'biochemistry',\n",
        " 'biodiversity',\n",
        " 'biology',\n",
        " 'biophysics',\n",
        " 'chemistry',\n",
        " 'cognitive science',\n",
        " 'earth science',\n",
        " 'energy',\n",
        " 'evolutionary biology',\n",
        " 'genetic engineering',\n",
        " 'genetics',\n",
        " 'geography',\n",
        " 'geology',\n",
        " 'health',\n",
        " 'immunology',\n",
        " 'meteorology',\n",
        " 'molecular biology',\n",
        " 'neuroscience',\n",
        " 'oncology',\n",
        " 'optics',\n",
        " 'pesticide',\n",
        " 'physics',\n",
        " 'psychology',\n",
        " 'radiation',\n",
        " 'radio propagation',\n",
        " 'sociology',\n",
        " 'solar energy',\n",
        " 'steam energy',\n",
        " 'topics related to life extension',\n",
        " 'trauma & orthopaedics',\n",
        " 'wave',\n",
        " 'women scientists'}"
       ]
      }
     ],
     "prompt_number": 75
    },
    {
     "cell_type": "code",
     "collapsed": false,
     "input": [],
     "language": "python",
     "metadata": {},
     "outputs": []
    }
   ],
   "metadata": {}
  }
 ]
}